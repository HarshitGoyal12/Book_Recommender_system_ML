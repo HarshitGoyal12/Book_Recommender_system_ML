{
 "cells": [
  {
   "cell_type": "code",
   "execution_count": 1,
   "id": "a80b205e",
   "metadata": {},
   "outputs": [],
   "source": [
    "import pandas as pd\n",
    "import seaborn as sns\n",
    "import numpy as np\n",
    "import warnings\n",
    "import matplotlib.pyplot as plt\n",
    "import os\n",
    "import nltk"
   ]
  },
  {
   "cell_type": "markdown",
   "id": "22d31588",
   "metadata": {},
   "source": [
    "# DataSet \n",
    "Link: https://www.kaggle.com/datasets/arashnic/book-recommendation-dataset\n",
    "There are three datasets available for us:\n",
    "\n",
    "\n",
    "1.Books\n",
    "2.Users\n",
    "3.Ratings\n"
   ]
  },
  {
   "cell_type": "code",
   "execution_count": 3,
   "id": "202302a3",
   "metadata": {},
   "outputs": [
    {
     "name": "stderr",
     "output_type": "stream",
     "text": [
      "C:\\Users\\HARSHIT GOYAL\\AppData\\Local\\Temp\\ipykernel_6604\\3250565520.py:1: DtypeWarning: Columns (3) have mixed types. Specify dtype option on import or set low_memory=False.\n",
      "  books = pd.read_csv('Books.csv')\n"
     ]
    },
    {
     "data": {
      "text/html": [
       "<div>\n",
       "<style scoped>\n",
       "    .dataframe tbody tr th:only-of-type {\n",
       "        vertical-align: middle;\n",
       "    }\n",
       "\n",
       "    .dataframe tbody tr th {\n",
       "        vertical-align: top;\n",
       "    }\n",
       "\n",
       "    .dataframe thead th {\n",
       "        text-align: right;\n",
       "    }\n",
       "</style>\n",
       "<table border=\"1\" class=\"dataframe\">\n",
       "  <thead>\n",
       "    <tr style=\"text-align: right;\">\n",
       "      <th></th>\n",
       "      <th>ISBN</th>\n",
       "      <th>Book-Title</th>\n",
       "      <th>Book-Author</th>\n",
       "      <th>Year-Of-Publication</th>\n",
       "      <th>Publisher</th>\n",
       "      <th>Image-URL-S</th>\n",
       "      <th>Image-URL-M</th>\n",
       "      <th>Image-URL-L</th>\n",
       "    </tr>\n",
       "  </thead>\n",
       "  <tbody>\n",
       "    <tr>\n",
       "      <th>0</th>\n",
       "      <td>0195153448</td>\n",
       "      <td>Classical Mythology</td>\n",
       "      <td>Mark P. O. Morford</td>\n",
       "      <td>2002</td>\n",
       "      <td>Oxford University Press</td>\n",
       "      <td>http://images.amazon.com/images/P/0195153448.0...</td>\n",
       "      <td>http://images.amazon.com/images/P/0195153448.0...</td>\n",
       "      <td>http://images.amazon.com/images/P/0195153448.0...</td>\n",
       "    </tr>\n",
       "    <tr>\n",
       "      <th>1</th>\n",
       "      <td>0002005018</td>\n",
       "      <td>Clara Callan</td>\n",
       "      <td>Richard Bruce Wright</td>\n",
       "      <td>2001</td>\n",
       "      <td>HarperFlamingo Canada</td>\n",
       "      <td>http://images.amazon.com/images/P/0002005018.0...</td>\n",
       "      <td>http://images.amazon.com/images/P/0002005018.0...</td>\n",
       "      <td>http://images.amazon.com/images/P/0002005018.0...</td>\n",
       "    </tr>\n",
       "    <tr>\n",
       "      <th>2</th>\n",
       "      <td>0060973129</td>\n",
       "      <td>Decision in Normandy</td>\n",
       "      <td>Carlo D'Este</td>\n",
       "      <td>1991</td>\n",
       "      <td>HarperPerennial</td>\n",
       "      <td>http://images.amazon.com/images/P/0060973129.0...</td>\n",
       "      <td>http://images.amazon.com/images/P/0060973129.0...</td>\n",
       "      <td>http://images.amazon.com/images/P/0060973129.0...</td>\n",
       "    </tr>\n",
       "    <tr>\n",
       "      <th>3</th>\n",
       "      <td>0374157065</td>\n",
       "      <td>Flu: The Story of the Great Influenza Pandemic...</td>\n",
       "      <td>Gina Bari Kolata</td>\n",
       "      <td>1999</td>\n",
       "      <td>Farrar Straus Giroux</td>\n",
       "      <td>http://images.amazon.com/images/P/0374157065.0...</td>\n",
       "      <td>http://images.amazon.com/images/P/0374157065.0...</td>\n",
       "      <td>http://images.amazon.com/images/P/0374157065.0...</td>\n",
       "    </tr>\n",
       "    <tr>\n",
       "      <th>4</th>\n",
       "      <td>0393045218</td>\n",
       "      <td>The Mummies of Urumchi</td>\n",
       "      <td>E. J. W. Barber</td>\n",
       "      <td>1999</td>\n",
       "      <td>W. W. Norton &amp;amp; Company</td>\n",
       "      <td>http://images.amazon.com/images/P/0393045218.0...</td>\n",
       "      <td>http://images.amazon.com/images/P/0393045218.0...</td>\n",
       "      <td>http://images.amazon.com/images/P/0393045218.0...</td>\n",
       "    </tr>\n",
       "  </tbody>\n",
       "</table>\n",
       "</div>"
      ],
      "text/plain": [
       "         ISBN                                         Book-Title  \\\n",
       "0  0195153448                                Classical Mythology   \n",
       "1  0002005018                                       Clara Callan   \n",
       "2  0060973129                               Decision in Normandy   \n",
       "3  0374157065  Flu: The Story of the Great Influenza Pandemic...   \n",
       "4  0393045218                             The Mummies of Urumchi   \n",
       "\n",
       "            Book-Author Year-Of-Publication                   Publisher  \\\n",
       "0    Mark P. O. Morford                2002     Oxford University Press   \n",
       "1  Richard Bruce Wright                2001       HarperFlamingo Canada   \n",
       "2          Carlo D'Este                1991             HarperPerennial   \n",
       "3      Gina Bari Kolata                1999        Farrar Straus Giroux   \n",
       "4       E. J. W. Barber                1999  W. W. Norton &amp; Company   \n",
       "\n",
       "                                         Image-URL-S  \\\n",
       "0  http://images.amazon.com/images/P/0195153448.0...   \n",
       "1  http://images.amazon.com/images/P/0002005018.0...   \n",
       "2  http://images.amazon.com/images/P/0060973129.0...   \n",
       "3  http://images.amazon.com/images/P/0374157065.0...   \n",
       "4  http://images.amazon.com/images/P/0393045218.0...   \n",
       "\n",
       "                                         Image-URL-M  \\\n",
       "0  http://images.amazon.com/images/P/0195153448.0...   \n",
       "1  http://images.amazon.com/images/P/0002005018.0...   \n",
       "2  http://images.amazon.com/images/P/0060973129.0...   \n",
       "3  http://images.amazon.com/images/P/0374157065.0...   \n",
       "4  http://images.amazon.com/images/P/0393045218.0...   \n",
       "\n",
       "                                         Image-URL-L  \n",
       "0  http://images.amazon.com/images/P/0195153448.0...  \n",
       "1  http://images.amazon.com/images/P/0002005018.0...  \n",
       "2  http://images.amazon.com/images/P/0060973129.0...  \n",
       "3  http://images.amazon.com/images/P/0374157065.0...  \n",
       "4  http://images.amazon.com/images/P/0393045218.0...  "
      ]
     },
     "metadata": {},
     "output_type": "display_data"
    },
    {
     "data": {
      "text/html": [
       "<div>\n",
       "<style scoped>\n",
       "    .dataframe tbody tr th:only-of-type {\n",
       "        vertical-align: middle;\n",
       "    }\n",
       "\n",
       "    .dataframe tbody tr th {\n",
       "        vertical-align: top;\n",
       "    }\n",
       "\n",
       "    .dataframe thead th {\n",
       "        text-align: right;\n",
       "    }\n",
       "</style>\n",
       "<table border=\"1\" class=\"dataframe\">\n",
       "  <thead>\n",
       "    <tr style=\"text-align: right;\">\n",
       "      <th></th>\n",
       "      <th>User-ID</th>\n",
       "      <th>ISBN</th>\n",
       "      <th>Book-Rating</th>\n",
       "    </tr>\n",
       "  </thead>\n",
       "  <tbody>\n",
       "    <tr>\n",
       "      <th>0</th>\n",
       "      <td>276725</td>\n",
       "      <td>034545104X</td>\n",
       "      <td>0</td>\n",
       "    </tr>\n",
       "    <tr>\n",
       "      <th>1</th>\n",
       "      <td>276726</td>\n",
       "      <td>0155061224</td>\n",
       "      <td>5</td>\n",
       "    </tr>\n",
       "    <tr>\n",
       "      <th>2</th>\n",
       "      <td>276727</td>\n",
       "      <td>0446520802</td>\n",
       "      <td>0</td>\n",
       "    </tr>\n",
       "    <tr>\n",
       "      <th>3</th>\n",
       "      <td>276729</td>\n",
       "      <td>052165615X</td>\n",
       "      <td>3</td>\n",
       "    </tr>\n",
       "    <tr>\n",
       "      <th>4</th>\n",
       "      <td>276729</td>\n",
       "      <td>0521795028</td>\n",
       "      <td>6</td>\n",
       "    </tr>\n",
       "  </tbody>\n",
       "</table>\n",
       "</div>"
      ],
      "text/plain": [
       "   User-ID        ISBN  Book-Rating\n",
       "0   276725  034545104X            0\n",
       "1   276726  0155061224            5\n",
       "2   276727  0446520802            0\n",
       "3   276729  052165615X            3\n",
       "4   276729  0521795028            6"
      ]
     },
     "metadata": {},
     "output_type": "display_data"
    },
    {
     "data": {
      "text/html": [
       "<div>\n",
       "<style scoped>\n",
       "    .dataframe tbody tr th:only-of-type {\n",
       "        vertical-align: middle;\n",
       "    }\n",
       "\n",
       "    .dataframe tbody tr th {\n",
       "        vertical-align: top;\n",
       "    }\n",
       "\n",
       "    .dataframe thead th {\n",
       "        text-align: right;\n",
       "    }\n",
       "</style>\n",
       "<table border=\"1\" class=\"dataframe\">\n",
       "  <thead>\n",
       "    <tr style=\"text-align: right;\">\n",
       "      <th></th>\n",
       "      <th>User-ID</th>\n",
       "      <th>Location</th>\n",
       "      <th>Age</th>\n",
       "    </tr>\n",
       "  </thead>\n",
       "  <tbody>\n",
       "    <tr>\n",
       "      <th>0</th>\n",
       "      <td>1</td>\n",
       "      <td>nyc, new york, usa</td>\n",
       "      <td>NaN</td>\n",
       "    </tr>\n",
       "    <tr>\n",
       "      <th>1</th>\n",
       "      <td>2</td>\n",
       "      <td>stockton, california, usa</td>\n",
       "      <td>18.0</td>\n",
       "    </tr>\n",
       "    <tr>\n",
       "      <th>2</th>\n",
       "      <td>3</td>\n",
       "      <td>moscow, yukon territory, russia</td>\n",
       "      <td>NaN</td>\n",
       "    </tr>\n",
       "    <tr>\n",
       "      <th>3</th>\n",
       "      <td>4</td>\n",
       "      <td>porto, v.n.gaia, portugal</td>\n",
       "      <td>17.0</td>\n",
       "    </tr>\n",
       "    <tr>\n",
       "      <th>4</th>\n",
       "      <td>5</td>\n",
       "      <td>farnborough, hants, united kingdom</td>\n",
       "      <td>NaN</td>\n",
       "    </tr>\n",
       "  </tbody>\n",
       "</table>\n",
       "</div>"
      ],
      "text/plain": [
       "   User-ID                            Location   Age\n",
       "0        1                  nyc, new york, usa   NaN\n",
       "1        2           stockton, california, usa  18.0\n",
       "2        3     moscow, yukon territory, russia   NaN\n",
       "3        4           porto, v.n.gaia, portugal  17.0\n",
       "4        5  farnborough, hants, united kingdom   NaN"
      ]
     },
     "metadata": {},
     "output_type": "display_data"
    }
   ],
   "source": [
    "books = pd.read_csv('Books.csv')\n",
    "ratings = pd.read_csv('Ratings.csv')\n",
    "users = pd.read_csv('Users.csv')\n",
    "display(books.head())\n",
    "display(ratings.head())\n",
    "display(users.head())"
   ]
  },
  {
   "cell_type": "code",
   "execution_count": 4,
   "id": "ce2388f2",
   "metadata": {},
   "outputs": [
    {
     "data": {
      "text/plain": [
       "(271360, 8)"
      ]
     },
     "metadata": {},
     "output_type": "display_data"
    },
    {
     "data": {
      "text/plain": [
       "(1149780, 3)"
      ]
     },
     "metadata": {},
     "output_type": "display_data"
    },
    {
     "data": {
      "text/plain": [
       "(278858, 3)"
      ]
     },
     "metadata": {},
     "output_type": "display_data"
    }
   ],
   "source": [
    "display(books.shape)\n",
    "display(ratings.shape)\n",
    "display(users.shape)"
   ]
  },
  {
   "cell_type": "markdown",
   "id": "91f86f93",
   "metadata": {},
   "source": [
    "# Shape of Data"
   ]
  },
  {
   "cell_type": "code",
   "execution_count": 5,
   "id": "62ff4a46",
   "metadata": {},
   "outputs": [
    {
     "data": {
      "text/plain": [
       "ISBN                   0\n",
       "Book-Title             0\n",
       "Book-Author            1\n",
       "Year-Of-Publication    0\n",
       "Publisher              2\n",
       "Image-URL-S            0\n",
       "Image-URL-M            0\n",
       "Image-URL-L            3\n",
       "dtype: int64"
      ]
     },
     "execution_count": 5,
     "metadata": {},
     "output_type": "execute_result"
    }
   ],
   "source": [
    "books.isna().sum()"
   ]
  },
  {
   "cell_type": "code",
   "execution_count": 6,
   "id": "b07c3255",
   "metadata": {},
   "outputs": [
    {
     "data": {
      "text/html": [
       "<div>\n",
       "<style scoped>\n",
       "    .dataframe tbody tr th:only-of-type {\n",
       "        vertical-align: middle;\n",
       "    }\n",
       "\n",
       "    .dataframe tbody tr th {\n",
       "        vertical-align: top;\n",
       "    }\n",
       "\n",
       "    .dataframe thead th {\n",
       "        text-align: right;\n",
       "    }\n",
       "</style>\n",
       "<table border=\"1\" class=\"dataframe\">\n",
       "  <thead>\n",
       "    <tr style=\"text-align: right;\">\n",
       "      <th></th>\n",
       "      <th>ISBN</th>\n",
       "      <th>Book-Title</th>\n",
       "      <th>Book-Author</th>\n",
       "      <th>Year-Of-Publication</th>\n",
       "      <th>Publisher</th>\n",
       "      <th>Image-URL-S</th>\n",
       "      <th>Image-URL-M</th>\n",
       "      <th>Image-URL-L</th>\n",
       "    </tr>\n",
       "  </thead>\n",
       "  <tbody>\n",
       "    <tr>\n",
       "      <th>187689</th>\n",
       "      <td>9627982032</td>\n",
       "      <td>The Credit Suisse Guide to Managing Your Perso...</td>\n",
       "      <td>NaN</td>\n",
       "      <td>1995</td>\n",
       "      <td>Edinburgh Financial Publishing</td>\n",
       "      <td>http://images.amazon.com/images/P/9627982032.0...</td>\n",
       "      <td>http://images.amazon.com/images/P/9627982032.0...</td>\n",
       "      <td>http://images.amazon.com/images/P/9627982032.0...</td>\n",
       "    </tr>\n",
       "  </tbody>\n",
       "</table>\n",
       "</div>"
      ],
      "text/plain": [
       "              ISBN                                         Book-Title  \\\n",
       "187689  9627982032  The Credit Suisse Guide to Managing Your Perso...   \n",
       "\n",
       "       Book-Author Year-Of-Publication                       Publisher  \\\n",
       "187689         NaN                1995  Edinburgh Financial Publishing   \n",
       "\n",
       "                                              Image-URL-S  \\\n",
       "187689  http://images.amazon.com/images/P/9627982032.0...   \n",
       "\n",
       "                                              Image-URL-M  \\\n",
       "187689  http://images.amazon.com/images/P/9627982032.0...   \n",
       "\n",
       "                                              Image-URL-L  \n",
       "187689  http://images.amazon.com/images/P/9627982032.0...  "
      ]
     },
     "execution_count": 6,
     "metadata": {},
     "output_type": "execute_result"
    }
   ],
   "source": [
    "books[books['Book-Author'].isna()]"
   ]
  },
  {
   "cell_type": "markdown",
   "id": "77580749",
   "metadata": {},
   "source": [
    "# Filling missing values of Books datasets"
   ]
  },
  {
   "cell_type": "code",
   "execution_count": 7,
   "id": "561c6414",
   "metadata": {},
   "outputs": [
    {
     "data": {
      "text/plain": [
       "'The Credit Suisse Guide to Managing Your Personal Wealth'"
      ]
     },
     "execution_count": 7,
     "metadata": {},
     "output_type": "execute_result"
    }
   ],
   "source": [
    "books.iloc[187689]['Book-Title']"
   ]
  },
  {
   "cell_type": "markdown",
   "id": "ca6793d7",
   "metadata": {},
   "source": [
    "# After some google searches, we find that the author of this book is:\n",
    "Downes, Larissa Anne"
   ]
  },
  {
   "cell_type": "code",
   "execution_count": 8,
   "id": "5628c123",
   "metadata": {},
   "outputs": [],
   "source": [
    "#Assigning the value \n",
    "books.iloc[187689]['Book-Author'] = 'Downes, Larissa Anne'"
   ]
  },
  {
   "cell_type": "code",
   "execution_count": 16,
   "id": "69e0ab28",
   "metadata": {},
   "outputs": [
    {
     "data": {
      "text/plain": [
       "ISBN                                                          9627982032\n",
       "Book-Title             The Credit Suisse Guide to Managing Your Perso...\n",
       "Book-Author                                         Downes, Larissa Anne\n",
       "Year-Of-Publication                                                 1995\n",
       "Publisher                                 Edinburgh Financial Publishing\n",
       "Image-URL-S            http://images.amazon.com/images/P/9627982032.0...\n",
       "Image-URL-M            http://images.amazon.com/images/P/9627982032.0...\n",
       "Image-URL-L            http://images.amazon.com/images/P/9627982032.0...\n",
       "Name: 187689, dtype: object"
      ]
     },
     "metadata": {},
     "output_type": "display_data"
    },
    {
     "name": "stdout",
     "output_type": "stream",
     "text": [
      "ISBN                                                          9627982032\n",
      "Book-Title             The Credit Suisse Guide to Managing Your Perso...\n",
      "Book-Author                                         Downes, Larissa Anne\n",
      "Year-Of-Publication                                                 1995\n",
      "Publisher                                 Edinburgh Financial Publishing\n",
      "Image-URL-S            http://images.amazon.com/images/P/9627982032.0...\n",
      "Image-URL-M            http://images.amazon.com/images/P/9627982032.0...\n",
      "Image-URL-L            http://images.amazon.com/images/P/9627982032.0...\n",
      "Name: 187689, dtype: object\n"
     ]
    }
   ],
   "source": [
    "#187689\t\n",
    "#display(books.iloc[187689]);\n",
    "print(books.iloc[187689])"
   ]
  },
  {
   "cell_type": "code",
   "execution_count": 17,
   "id": "7771acd9",
   "metadata": {},
   "outputs": [
    {
     "data": {
      "text/plain": [
       "ISBN                   0\n",
       "Book-Title             0\n",
       "Book-Author            0\n",
       "Year-Of-Publication    0\n",
       "Publisher              2\n",
       "Image-URL-S            0\n",
       "Image-URL-M            0\n",
       "Image-URL-L            3\n",
       "dtype: int64"
      ]
     },
     "execution_count": 17,
     "metadata": {},
     "output_type": "execute_result"
    }
   ],
   "source": [
    "books.isna().sum()"
   ]
  },
  {
   "cell_type": "code",
   "execution_count": 18,
   "id": "7400b05a",
   "metadata": {},
   "outputs": [
    {
     "data": {
      "text/plain": [
       "User-ID          0\n",
       "Location         0\n",
       "Age         110762\n",
       "dtype: int64"
      ]
     },
     "execution_count": 18,
     "metadata": {},
     "output_type": "execute_result"
    }
   ],
   "source": [
    "# Users dataset\n",
    "users.isna().sum()"
   ]
  },
  {
   "cell_type": "code",
   "execution_count": 19,
   "id": "1551790c",
   "metadata": {},
   "outputs": [],
   "source": [
    "#dropping age column\n",
    "users.drop(columns=['Age'], inplace=True)"
   ]
  },
  {
   "cell_type": "markdown",
   "id": "0f7ea5e2",
   "metadata": {},
   "source": [
    "users.head()"
   ]
  },
  {
   "cell_type": "code",
   "execution_count": 21,
   "id": "84808f76",
   "metadata": {},
   "outputs": [
    {
     "data": {
      "text/plain": [
       "User-ID        0\n",
       "ISBN           0\n",
       "Book-Rating    0\n",
       "dtype: int64"
      ]
     },
     "execution_count": 21,
     "metadata": {},
     "output_type": "execute_result"
    }
   ],
   "source": [
    "ratings.isnull().sum()"
   ]
  },
  {
   "cell_type": "markdown",
   "id": "d8eadb43",
   "metadata": {},
   "source": [
    "# Checking duplicated values"
   ]
  },
  {
   "cell_type": "code",
   "execution_count": 22,
   "id": "ea727db0",
   "metadata": {},
   "outputs": [
    {
     "data": {
      "text/plain": [
       "0"
      ]
     },
     "execution_count": 22,
     "metadata": {},
     "output_type": "execute_result"
    }
   ],
   "source": [
    "# Books dataset\n",
    "books.duplicated().sum()"
   ]
  },
  {
   "cell_type": "code",
   "execution_count": 23,
   "id": "0b209b13",
   "metadata": {},
   "outputs": [
    {
     "data": {
      "text/plain": [
       "0"
      ]
     },
     "execution_count": 23,
     "metadata": {},
     "output_type": "execute_result"
    }
   ],
   "source": [
    "# Users dataset\n",
    "users.duplicated().sum()"
   ]
  },
  {
   "cell_type": "code",
   "execution_count": 25,
   "id": "e9626b9b",
   "metadata": {},
   "outputs": [
    {
     "data": {
      "text/plain": [
       "0"
      ]
     },
     "execution_count": 25,
     "metadata": {},
     "output_type": "execute_result"
    }
   ],
   "source": [
    "# Ratings dataset\n",
    "ratings.duplicated().sum()"
   ]
  },
  {
   "cell_type": "markdown",
   "id": "dd30ccac",
   "metadata": {},
   "source": [
    "# EDA"
   ]
  },
  {
   "cell_type": "markdown",
   "id": "26261e4e",
   "metadata": {},
   "source": [
    "# Books Dataset"
   ]
  },
  {
   "cell_type": "code",
   "execution_count": 26,
   "id": "13497611",
   "metadata": {},
   "outputs": [
    {
     "data": {
      "text/html": [
       "<div>\n",
       "<style scoped>\n",
       "    .dataframe tbody tr th:only-of-type {\n",
       "        vertical-align: middle;\n",
       "    }\n",
       "\n",
       "    .dataframe tbody tr th {\n",
       "        vertical-align: top;\n",
       "    }\n",
       "\n",
       "    .dataframe thead th {\n",
       "        text-align: right;\n",
       "    }\n",
       "</style>\n",
       "<table border=\"1\" class=\"dataframe\">\n",
       "  <thead>\n",
       "    <tr style=\"text-align: right;\">\n",
       "      <th></th>\n",
       "      <th>ISBN</th>\n",
       "      <th>Book-Title</th>\n",
       "      <th>Book-Author</th>\n",
       "      <th>Year-Of-Publication</th>\n",
       "      <th>Publisher</th>\n",
       "      <th>Image-URL-S</th>\n",
       "      <th>Image-URL-M</th>\n",
       "      <th>Image-URL-L</th>\n",
       "    </tr>\n",
       "  </thead>\n",
       "  <tbody>\n",
       "    <tr>\n",
       "      <th>0</th>\n",
       "      <td>0195153448</td>\n",
       "      <td>Classical Mythology</td>\n",
       "      <td>Mark P. O. Morford</td>\n",
       "      <td>2002</td>\n",
       "      <td>Oxford University Press</td>\n",
       "      <td>http://images.amazon.com/images/P/0195153448.0...</td>\n",
       "      <td>http://images.amazon.com/images/P/0195153448.0...</td>\n",
       "      <td>http://images.amazon.com/images/P/0195153448.0...</td>\n",
       "    </tr>\n",
       "    <tr>\n",
       "      <th>1</th>\n",
       "      <td>0002005018</td>\n",
       "      <td>Clara Callan</td>\n",
       "      <td>Richard Bruce Wright</td>\n",
       "      <td>2001</td>\n",
       "      <td>HarperFlamingo Canada</td>\n",
       "      <td>http://images.amazon.com/images/P/0002005018.0...</td>\n",
       "      <td>http://images.amazon.com/images/P/0002005018.0...</td>\n",
       "      <td>http://images.amazon.com/images/P/0002005018.0...</td>\n",
       "    </tr>\n",
       "    <tr>\n",
       "      <th>2</th>\n",
       "      <td>0060973129</td>\n",
       "      <td>Decision in Normandy</td>\n",
       "      <td>Carlo D'Este</td>\n",
       "      <td>1991</td>\n",
       "      <td>HarperPerennial</td>\n",
       "      <td>http://images.amazon.com/images/P/0060973129.0...</td>\n",
       "      <td>http://images.amazon.com/images/P/0060973129.0...</td>\n",
       "      <td>http://images.amazon.com/images/P/0060973129.0...</td>\n",
       "    </tr>\n",
       "    <tr>\n",
       "      <th>3</th>\n",
       "      <td>0374157065</td>\n",
       "      <td>Flu: The Story of the Great Influenza Pandemic...</td>\n",
       "      <td>Gina Bari Kolata</td>\n",
       "      <td>1999</td>\n",
       "      <td>Farrar Straus Giroux</td>\n",
       "      <td>http://images.amazon.com/images/P/0374157065.0...</td>\n",
       "      <td>http://images.amazon.com/images/P/0374157065.0...</td>\n",
       "      <td>http://images.amazon.com/images/P/0374157065.0...</td>\n",
       "    </tr>\n",
       "    <tr>\n",
       "      <th>4</th>\n",
       "      <td>0393045218</td>\n",
       "      <td>The Mummies of Urumchi</td>\n",
       "      <td>E. J. W. Barber</td>\n",
       "      <td>1999</td>\n",
       "      <td>W. W. Norton &amp;amp; Company</td>\n",
       "      <td>http://images.amazon.com/images/P/0393045218.0...</td>\n",
       "      <td>http://images.amazon.com/images/P/0393045218.0...</td>\n",
       "      <td>http://images.amazon.com/images/P/0393045218.0...</td>\n",
       "    </tr>\n",
       "  </tbody>\n",
       "</table>\n",
       "</div>"
      ],
      "text/plain": [
       "         ISBN                                         Book-Title  \\\n",
       "0  0195153448                                Classical Mythology   \n",
       "1  0002005018                                       Clara Callan   \n",
       "2  0060973129                               Decision in Normandy   \n",
       "3  0374157065  Flu: The Story of the Great Influenza Pandemic...   \n",
       "4  0393045218                             The Mummies of Urumchi   \n",
       "\n",
       "            Book-Author Year-Of-Publication                   Publisher  \\\n",
       "0    Mark P. O. Morford                2002     Oxford University Press   \n",
       "1  Richard Bruce Wright                2001       HarperFlamingo Canada   \n",
       "2          Carlo D'Este                1991             HarperPerennial   \n",
       "3      Gina Bari Kolata                1999        Farrar Straus Giroux   \n",
       "4       E. J. W. Barber                1999  W. W. Norton &amp; Company   \n",
       "\n",
       "                                         Image-URL-S  \\\n",
       "0  http://images.amazon.com/images/P/0195153448.0...   \n",
       "1  http://images.amazon.com/images/P/0002005018.0...   \n",
       "2  http://images.amazon.com/images/P/0060973129.0...   \n",
       "3  http://images.amazon.com/images/P/0374157065.0...   \n",
       "4  http://images.amazon.com/images/P/0393045218.0...   \n",
       "\n",
       "                                         Image-URL-M  \\\n",
       "0  http://images.amazon.com/images/P/0195153448.0...   \n",
       "1  http://images.amazon.com/images/P/0002005018.0...   \n",
       "2  http://images.amazon.com/images/P/0060973129.0...   \n",
       "3  http://images.amazon.com/images/P/0374157065.0...   \n",
       "4  http://images.amazon.com/images/P/0393045218.0...   \n",
       "\n",
       "                                         Image-URL-L  \n",
       "0  http://images.amazon.com/images/P/0195153448.0...  \n",
       "1  http://images.amazon.com/images/P/0002005018.0...  \n",
       "2  http://images.amazon.com/images/P/0060973129.0...  \n",
       "3  http://images.amazon.com/images/P/0374157065.0...  \n",
       "4  http://images.amazon.com/images/P/0393045218.0...  "
      ]
     },
     "execution_count": 26,
     "metadata": {},
     "output_type": "execute_result"
    }
   ],
   "source": [
    "books.head()"
   ]
  },
  {
   "cell_type": "code",
   "execution_count": 27,
   "id": "96d4e49f",
   "metadata": {},
   "outputs": [
    {
     "data": {
      "text/plain": [
       "ISBN                   object\n",
       "Book-Title             object\n",
       "Book-Author            object\n",
       "Year-Of-Publication    object\n",
       "Publisher              object\n",
       "Image-URL-S            object\n",
       "Image-URL-M            object\n",
       "Image-URL-L            object\n",
       "dtype: object"
      ]
     },
     "execution_count": 27,
     "metadata": {},
     "output_type": "execute_result"
    }
   ],
   "source": [
    "books.dtypes"
   ]
  },
  {
   "cell_type": "markdown",
   "id": "fe179d8a",
   "metadata": {},
   "source": [
    "There has been some error in the year of publication on the index of: 209538\n",
    "220731\n",
    "221678\n",
    "So, we fix those data entries"
   ]
  },
  {
   "cell_type": "code",
   "execution_count": 28,
   "id": "30a265bf",
   "metadata": {},
   "outputs": [
    {
     "data": {
      "text/plain": [
       "ISBN                                                          078946697X\n",
       "Book-Title             DK Readers: Creating the X-Men, How It All Beg...\n",
       "Book-Author                                                         2000\n",
       "Year-Of-Publication                                    DK Publishing Inc\n",
       "Publisher              http://images.amazon.com/images/P/078946697X.0...\n",
       "Image-URL-S            http://images.amazon.com/images/P/078946697X.0...\n",
       "Image-URL-M            http://images.amazon.com/images/P/078946697X.0...\n",
       "Image-URL-L                                                          NaN\n",
       "Name: 209538, dtype: object"
      ]
     },
     "execution_count": 28,
     "metadata": {},
     "output_type": "execute_result"
    }
   ],
   "source": [
    "books.iloc[209538]\n"
   ]
  },
  {
   "cell_type": "code",
   "execution_count": 29,
   "id": "d45fd163",
   "metadata": {},
   "outputs": [
    {
     "data": {
      "text/plain": [
       "'DK Readers: Creating the X-Men, How It All Began (Level 4: Proficient Readers)\\\\\";Michael Teitelbaum\"'"
      ]
     },
     "metadata": {},
     "output_type": "display_data"
    },
    {
     "data": {
      "text/plain": [
       "'DK Publishing Inc'"
      ]
     },
     "execution_count": 29,
     "metadata": {},
     "output_type": "execute_result"
    }
   ],
   "source": [
    "display(books.iloc[209538]['Book-Title'])\n",
    "books.iloc[209538]['Year-Of-Publication']"
   ]
  },
  {
   "cell_type": "code",
   "execution_count": 30,
   "id": "ea81b37e",
   "metadata": {},
   "outputs": [],
   "source": [
    "books.iloc[209538]['Book-Author'] = 'Michael Teitelbbaum'\n",
    "books.iloc[209538][\n",
    "    'Book-Title'] = 'DK Readers: The Story of the X-Men, How It All Began (Level 4: Proficient Readers)'\n",
    "books.iloc[209538]['Year-Of-Publication'] = 2000\n",
    "books.iloc[209538]['Publisher'] = 'DK Publishing Inc'"
   ]
  },
  {
   "cell_type": "code",
   "execution_count": 31,
   "id": "31ee1ccb",
   "metadata": {},
   "outputs": [
    {
     "data": {
      "text/plain": [
       "ISBN                                                          078946697X\n",
       "Book-Title             DK Readers: The Story of the X-Men, How It All...\n",
       "Book-Author                                          Michael Teitelbbaum\n",
       "Year-Of-Publication                                                 2000\n",
       "Publisher                                              DK Publishing Inc\n",
       "Image-URL-S            http://images.amazon.com/images/P/078946697X.0...\n",
       "Image-URL-M            http://images.amazon.com/images/P/078946697X.0...\n",
       "Image-URL-L                                                          NaN\n",
       "Name: 209538, dtype: object"
      ]
     },
     "execution_count": 31,
     "metadata": {},
     "output_type": "execute_result"
    }
   ],
   "source": [
    "books.iloc[209538]\n"
   ]
  },
  {
   "cell_type": "code",
   "execution_count": 32,
   "id": "ddc76fee",
   "metadata": {},
   "outputs": [
    {
     "data": {
      "text/plain": [
       "ISBN                                                          1572972173\n",
       "Book-Title                                            The Ultimate X-Men\n",
       "Book-Author                                                     Stan Lee\n",
       "Year-Of-Publication                                                 1996\n",
       "Publisher                                       Berkley Publishing Group\n",
       "Image-URL-S            http://images.amazon.com/images/P/1572972173.0...\n",
       "Image-URL-M            http://images.amazon.com/images/P/1572972173.0...\n",
       "Image-URL-L            http://images.amazon.com/images/P/1572972173.0...\n",
       "Name: 209537, dtype: object"
      ]
     },
     "execution_count": 32,
     "metadata": {},
     "output_type": "execute_result"
    }
   ],
   "source": [
    "books.iloc[209537]"
   ]
  },
  {
   "cell_type": "code",
   "execution_count": 33,
   "id": "b470785a",
   "metadata": {},
   "outputs": [
    {
     "data": {
      "text/plain": [
       "ISBN                                                          2070426769\n",
       "Book-Title             Peuple du ciel, suivi de 'Les Bergers\\\";Jean-M...\n",
       "Book-Author                                                         2003\n",
       "Year-Of-Publication                                            Gallimard\n",
       "Publisher              http://images.amazon.com/images/P/2070426769.0...\n",
       "Image-URL-S            http://images.amazon.com/images/P/2070426769.0...\n",
       "Image-URL-M            http://images.amazon.com/images/P/2070426769.0...\n",
       "Image-URL-L                                                          NaN\n",
       "Name: 220731, dtype: object"
      ]
     },
     "execution_count": 33,
     "metadata": {},
     "output_type": "execute_result"
    }
   ],
   "source": [
    "books.iloc[220731]"
   ]
  },
  {
   "cell_type": "code",
   "execution_count": 34,
   "id": "84482501",
   "metadata": {},
   "outputs": [],
   "source": [
    "books.iloc[220731]['Book-Title'] = \"Peuple du ciel, suivi de 'Les Bergers'\"\n",
    "books.iloc[220731]['Book-Author'] = 'Jean-Marie Gustave Le Clézio'\n",
    "books.iloc[220731]['Year-Of-Publication'] = 1990\n",
    "books.iloc[220731]['Publisher'] = 'Gallimard'"
   ]
  },
  {
   "cell_type": "code",
   "execution_count": 35,
   "id": "da56c6ed",
   "metadata": {},
   "outputs": [
    {
     "data": {
      "text/plain": [
       "ISBN                                                          2070426769\n",
       "Book-Title                        Peuple du ciel, suivi de 'Les Bergers'\n",
       "Book-Author                                 Jean-Marie Gustave Le Clézio\n",
       "Year-Of-Publication                                                 1990\n",
       "Publisher                                                      Gallimard\n",
       "Image-URL-S            http://images.amazon.com/images/P/2070426769.0...\n",
       "Image-URL-M            http://images.amazon.com/images/P/2070426769.0...\n",
       "Image-URL-L                                                          NaN\n",
       "Name: 220731, dtype: object"
      ]
     },
     "execution_count": 35,
     "metadata": {},
     "output_type": "execute_result"
    }
   ],
   "source": [
    "books.iloc[220731]"
   ]
  },
  {
   "cell_type": "code",
   "execution_count": 36,
   "id": "757bb9ab",
   "metadata": {},
   "outputs": [
    {
     "data": {
      "text/plain": [
       "ISBN                                                          0789466953\n",
       "Book-Title             DK Readers: Creating the X-Men, How Comic Book...\n",
       "Book-Author                                                         2000\n",
       "Year-Of-Publication                                    DK Publishing Inc\n",
       "Publisher              http://images.amazon.com/images/P/0789466953.0...\n",
       "Image-URL-S            http://images.amazon.com/images/P/0789466953.0...\n",
       "Image-URL-M            http://images.amazon.com/images/P/0789466953.0...\n",
       "Image-URL-L                                                          NaN\n",
       "Name: 221678, dtype: object"
      ]
     },
     "execution_count": 36,
     "metadata": {},
     "output_type": "execute_result"
    }
   ],
   "source": [
    "books.iloc[221678]"
   ]
  },
  {
   "cell_type": "code",
   "execution_count": 37,
   "id": "58578c8d",
   "metadata": {},
   "outputs": [
    {
     "data": {
      "text/plain": [
       "'DK Readers: Creating the X-Men, How Comic Books Come to Life (Level 4: Proficient Readers)\\\\\";James Buckley\"'"
      ]
     },
     "execution_count": 37,
     "metadata": {},
     "output_type": "execute_result"
    }
   ],
   "source": [
    "books.iloc[221678]['Book-Title']"
   ]
  },
  {
   "cell_type": "code",
   "execution_count": 38,
   "id": "6031e2e5",
   "metadata": {},
   "outputs": [],
   "source": [
    "books.iloc[221678][\n",
    "    'Book-Title'] = 'DK Readers: Creating the X-Men, How Comic Books Come to Life (Level 4: Proficient Readers)'\n",
    "books.iloc[221678]['Book-Author'] = 'James Buckley'\n",
    "books.iloc[221678]['Year-Of-Publication'] = 2000\n",
    "books.iloc[221678]['Publisher'] = 'DK Publishing Inc'"
   ]
  },
  {
   "cell_type": "code",
   "execution_count": 39,
   "id": "b02b761d",
   "metadata": {},
   "outputs": [],
   "source": [
    "books['Year-Of-Publication'] = books['Year-Of-Publication'].astype('int64')"
   ]
  },
  {
   "cell_type": "code",
   "execution_count": 40,
   "id": "1f3edbfc",
   "metadata": {},
   "outputs": [
    {
     "data": {
      "text/plain": [
       "2050        2\n",
       "2038        1\n",
       "2037        1\n",
       "2030        7\n",
       "2026        1\n",
       "2024        1\n",
       "2021        1\n",
       "2020        3\n",
       "2012        1\n",
       "2011        2\n",
       "2010        2\n",
       "2008        1\n",
       "2006        3\n",
       "2005       46\n",
       "2004     5839\n",
       "2003    14358\n",
       "2002    17627\n",
       "2001    17359\n",
       "2000    17234\n",
       "1999    17431\n",
       "Name: Year-Of-Publication, dtype: int64"
      ]
     },
     "execution_count": 40,
     "metadata": {},
     "output_type": "execute_result"
    }
   ],
   "source": [
    "books['Year-Of-Publication'].value_counts().sort_index(ascending=False).iloc[:20]"
   ]
  },
  {
   "cell_type": "markdown",
   "id": "64d93fd7",
   "metadata": {},
   "source": [
    "# checking for any mistakes ???\n"
   ]
  },
  {
   "cell_type": "code",
   "execution_count": 42,
   "id": "dd652a5e",
   "metadata": {},
   "outputs": [
    {
     "data": {
      "text/html": [
       "<div>\n",
       "<style scoped>\n",
       "    .dataframe tbody tr th:only-of-type {\n",
       "        vertical-align: middle;\n",
       "    }\n",
       "\n",
       "    .dataframe tbody tr th {\n",
       "        vertical-align: top;\n",
       "    }\n",
       "\n",
       "    .dataframe thead th {\n",
       "        text-align: right;\n",
       "    }\n",
       "</style>\n",
       "<table border=\"1\" class=\"dataframe\">\n",
       "  <thead>\n",
       "    <tr style=\"text-align: right;\">\n",
       "      <th></th>\n",
       "      <th>Book-Title</th>\n",
       "      <th>Year-Of-Publication</th>\n",
       "      <th>Publisher</th>\n",
       "      <th>Book-Author</th>\n",
       "    </tr>\n",
       "  </thead>\n",
       "  <tbody>\n",
       "    <tr>\n",
       "      <th>37487</th>\n",
       "      <td>MY TEACHER FRIED MY BRAINS (RACK SIZE) (MY TEA...</td>\n",
       "      <td>2030</td>\n",
       "      <td>Aladdin</td>\n",
       "      <td>Coville</td>\n",
       "    </tr>\n",
       "    <tr>\n",
       "      <th>55676</th>\n",
       "      <td>MY TEACHER FLUNKED THE PLANET (RACK SIZE) (MY ...</td>\n",
       "      <td>2030</td>\n",
       "      <td>Aladdin</td>\n",
       "      <td>Bruce Coville</td>\n",
       "    </tr>\n",
       "    <tr>\n",
       "      <th>78168</th>\n",
       "      <td>Crossing America</td>\n",
       "      <td>2030</td>\n",
       "      <td>National Geographic</td>\n",
       "      <td>National Geographic Society</td>\n",
       "    </tr>\n",
       "    <tr>\n",
       "      <th>80264</th>\n",
       "      <td>Alice's Adventures in Wonderland and Through t...</td>\n",
       "      <td>2050</td>\n",
       "      <td>Puffin Books</td>\n",
       "      <td>Lewis Carroll</td>\n",
       "    </tr>\n",
       "    <tr>\n",
       "      <th>97826</th>\n",
       "      <td>Outline of European Architecture (Pelican S.)</td>\n",
       "      <td>2050</td>\n",
       "      <td>Penguin USA</td>\n",
       "      <td>Nikolaus Pevsner</td>\n",
       "    </tr>\n",
       "    <tr>\n",
       "      <th>116053</th>\n",
       "      <td>Three Plays of Eugene Oneill</td>\n",
       "      <td>2038</td>\n",
       "      <td>Vintage Books USA</td>\n",
       "      <td>Eugene O'Neill</td>\n",
       "    </tr>\n",
       "    <tr>\n",
       "      <th>118294</th>\n",
       "      <td>Das groÃ?Â?e BÃ?Â¶se- MÃ?Â¤dchen- Lesebuch.</td>\n",
       "      <td>2026</td>\n",
       "      <td>Goldmann</td>\n",
       "      <td>Kathy Lette</td>\n",
       "    </tr>\n",
       "    <tr>\n",
       "      <th>192993</th>\n",
       "      <td>Field Guide to the Birds of North America, 3rd...</td>\n",
       "      <td>2030</td>\n",
       "      <td>National Geographic</td>\n",
       "      <td>National Geographic Society</td>\n",
       "    </tr>\n",
       "    <tr>\n",
       "      <th>228173</th>\n",
       "      <td>FOREST PEOPLE (Touchstone Books (Hardcover))</td>\n",
       "      <td>2030</td>\n",
       "      <td>Simon &amp;amp; Schuster</td>\n",
       "      <td>Colin M. Turnbull</td>\n",
       "    </tr>\n",
       "    <tr>\n",
       "      <th>240169</th>\n",
       "      <td>In Our Time: Stories (Scribner Classic)</td>\n",
       "      <td>2030</td>\n",
       "      <td>Collier Books</td>\n",
       "      <td>Ernest Hemingway</td>\n",
       "    </tr>\n",
       "    <tr>\n",
       "      <th>255409</th>\n",
       "      <td>To Have and Have Not</td>\n",
       "      <td>2037</td>\n",
       "      <td>Simon &amp;amp; Schuster</td>\n",
       "      <td>Ernest Hemingway</td>\n",
       "    </tr>\n",
       "    <tr>\n",
       "      <th>260974</th>\n",
       "      <td>FOOTBALL SUPER TEAMS : FOOTBALL SUPER TEAMS</td>\n",
       "      <td>2030</td>\n",
       "      <td>Simon &amp;amp; Schuster Children's Publishing</td>\n",
       "      <td>Bill Gutman</td>\n",
       "    </tr>\n",
       "  </tbody>\n",
       "</table>\n",
       "</div>"
      ],
      "text/plain": [
       "                                               Book-Title  \\\n",
       "37487   MY TEACHER FRIED MY BRAINS (RACK SIZE) (MY TEA...   \n",
       "55676   MY TEACHER FLUNKED THE PLANET (RACK SIZE) (MY ...   \n",
       "78168                                    Crossing America   \n",
       "80264   Alice's Adventures in Wonderland and Through t...   \n",
       "97826       Outline of European Architecture (Pelican S.)   \n",
       "116053                       Three Plays of Eugene Oneill   \n",
       "118294        Das groÃ?Â?e BÃ?Â¶se- MÃ?Â¤dchen- Lesebuch.   \n",
       "192993  Field Guide to the Birds of North America, 3rd...   \n",
       "228173       FOREST PEOPLE (Touchstone Books (Hardcover))   \n",
       "240169            In Our Time: Stories (Scribner Classic)   \n",
       "255409                               To Have and Have Not   \n",
       "260974        FOOTBALL SUPER TEAMS : FOOTBALL SUPER TEAMS   \n",
       "\n",
       "        Year-Of-Publication                                   Publisher  \\\n",
       "37487                  2030                                     Aladdin   \n",
       "55676                  2030                                     Aladdin   \n",
       "78168                  2030                         National Geographic   \n",
       "80264                  2050                                Puffin Books   \n",
       "97826                  2050                                 Penguin USA   \n",
       "116053                 2038                           Vintage Books USA   \n",
       "118294                 2026                                    Goldmann   \n",
       "192993                 2030                         National Geographic   \n",
       "228173                 2030                        Simon &amp; Schuster   \n",
       "240169                 2030                               Collier Books   \n",
       "255409                 2037                        Simon &amp; Schuster   \n",
       "260974                 2030  Simon &amp; Schuster Children's Publishing   \n",
       "\n",
       "                        Book-Author  \n",
       "37487                       Coville  \n",
       "55676                 Bruce Coville  \n",
       "78168   National Geographic Society  \n",
       "80264                 Lewis Carroll  \n",
       "97826              Nikolaus Pevsner  \n",
       "116053               Eugene O'Neill  \n",
       "118294                  Kathy Lette  \n",
       "192993  National Geographic Society  \n",
       "228173            Colin M. Turnbull  \n",
       "240169             Ernest Hemingway  \n",
       "255409             Ernest Hemingway  \n",
       "260974                  Bill Gutman  "
      ]
     },
     "execution_count": 42,
     "metadata": {},
     "output_type": "execute_result"
    }
   ],
   "source": [
    "#We can see that there are few data with year of publication from future.\n",
    "books[books['Year-Of-Publication']>2024][['Book-Title','Year-Of-Publication','Publisher','Book-Author']]"
   ]
  },
  {
   "cell_type": "code",
   "execution_count": 43,
   "id": "2fbc660f",
   "metadata": {},
   "outputs": [
    {
     "data": {
      "text/plain": [
       "'MY TEACHER FRIED MY BRAINS (RACK SIZE) (MY TEACHER BOOKS)'"
      ]
     },
     "metadata": {},
     "output_type": "display_data"
    },
    {
     "data": {
      "text/plain": [
       "'MY TEACHER FLUNKED THE PLANET (RACK SIZE) (MY TEACHER BOOKS)'"
      ]
     },
     "metadata": {},
     "output_type": "display_data"
    },
    {
     "data": {
      "text/plain": [
       "\"Alice's Adventures in Wonderland and Through the Looking Glass (Puffin Books)\""
      ]
     },
     "metadata": {},
     "output_type": "display_data"
    },
    {
     "data": {
      "text/plain": [
       "'Field Guide to the Birds of North America, 3rd Ed.'"
      ]
     },
     "metadata": {},
     "output_type": "display_data"
    }
   ],
   "source": [
    "# Viewing the full names\n",
    "display(books.iloc[37487]['Book-Title'])\n",
    "display(books.iloc[55676]['Book-Title'])\n",
    "display(books.iloc[80264]['Book-Title'])\n",
    "display(books.iloc[192993]['Book-Title'])"
   ]
  },
  {
   "cell_type": "code",
   "execution_count": 45,
   "id": "2e0d80e1",
   "metadata": {},
   "outputs": [
    {
     "data": {
      "text/plain": [
       "ISBN                                                          0671746103\n",
       "Book-Title             MY TEACHER FRIED MY BRAINS (RACK SIZE) (MY TEA...\n",
       "Book-Author                                                      Coville\n",
       "Year-Of-Publication                                                 1991\n",
       "Publisher                                                        Aladdin\n",
       "Image-URL-S            http://images.amazon.com/images/P/0671746103.0...\n",
       "Image-URL-M            http://images.amazon.com/images/P/0671746103.0...\n",
       "Image-URL-L            http://images.amazon.com/images/P/0671746103.0...\n",
       "Name: 37487, dtype: object"
      ]
     },
     "execution_count": 45,
     "metadata": {},
     "output_type": "execute_result"
    }
   ],
   "source": [
    "# we can see the above books have years with publishing date from future, which is not possible.\n",
    "books.loc[37487, 'Year-Of-Publication'] = 1991\n",
    "books.iloc[37487]"
   ]
  },
  {
   "cell_type": "code",
   "execution_count": 46,
   "id": "c6e39b8f",
   "metadata": {},
   "outputs": [],
   "source": [
    "#'MY TEACHER FRIED MY BRAINS (RACK SIZE) (MY TEACHER BOOKS)'\n",
    "books.loc[37487, 'Year-Of-Publication'] = 1991\n",
    "\n",
    "# 'MY TEACHER FLUNKED THE PLANET (RACK SIZE) (MY TEACHER BOOKS)'\n",
    "books.loc[55676, 'Year-Of-Publication'] = 2005\n",
    "\n",
    "# 'MY TEACHER FLUNKED THE PLANET (RACK SIZE) (MY TEACHER BOOKS)'\n",
    "books.loc[37487, 'Book-Author'] = 'Bruce Coville'\n",
    "\n",
    "# \"Alice's Adventures in Wonderland and Through the Looking Glass (Puffin Books)\"\n",
    "books.loc[80264, 'Year-Of-Publication'] = 2003\n",
    "\n",
    "# 'Field Guide to the Birds of North America, 3rd Ed.'\n",
    "books.loc[192993, 'Year-Of-Publication'] = 2003\n",
    "\n",
    "# Crossing America\n",
    "books.loc[78168, 'Year-Of-Publication'] = 2001\n",
    "\n",
    "# Outline of European Architecture (Pelican S.)\n",
    "books.loc[97826, 'Year-Of-Publication'] = 1981\n",
    "\n",
    "# Three Plays of Eugene Oneill\n",
    "books.loc[116053, 'Year-Of-Publication'] = 1995\n",
    "\n",
    "# Setting to current date of project since no information could be found\n",
    "# Das groÃ?Â?e BÃ?Â¶se- MÃ?Â¤dchen- Lesebuch.\n",
    "books.loc[118294, 'Year-Of-Publication'] = 2023\n",
    "\n",
    "# FOREST PEOPLE (Touchstone Books (Hardcover))\n",
    "books.loc[228173, 'Year-Of-Publication'] = 1987\n",
    "\n",
    "# In Our Time: Stories (Scribner Classic)\n",
    "books.loc[240169, 'Year-Of-Publication'] = 1996\n",
    "\n",
    "# CLOUT\n",
    "books.loc[246842, 'Year-Of-Publication'] = 1925\n",
    "\n",
    "# To Have and Have Not\n",
    "books.loc[255409, 'Year-Of-Publication'] = 1937\n",
    "\n",
    "# FOOTBALL SUPER TEAMS : FOOTBALL SUPER TEAMS\n",
    "books.loc[260974, 'Year-Of-Publication'] = 1991"
   ]
  },
  {
   "cell_type": "code",
   "execution_count": 48,
   "id": "5f856b7c",
   "metadata": {},
   "outputs": [
    {
     "data": {
      "text/plain": [
       "ISBN                                                          0671740989\n",
       "Book-Title                   FOOTBALL SUPER TEAMS : FOOTBALL SUPER TEAMS\n",
       "Book-Author                                                  Bill Gutman\n",
       "Year-Of-Publication                                                 1991\n",
       "Publisher                     Simon &amp; Schuster Children's Publishing\n",
       "Image-URL-S            http://images.amazon.com/images/P/0671740989.0...\n",
       "Image-URL-M            http://images.amazon.com/images/P/0671740989.0...\n",
       "Image-URL-L            http://images.amazon.com/images/P/0671740989.0...\n",
       "Name: 260974, dtype: object"
      ]
     },
     "execution_count": 48,
     "metadata": {},
     "output_type": "execute_result"
    }
   ],
   "source": [
    "books.iloc[260974]"
   ]
  },
  {
   "cell_type": "code",
   "execution_count": 49,
   "id": "d0f44a17",
   "metadata": {},
   "outputs": [
    {
     "data": {
      "text/plain": [
       "0       4618\n",
       "1376       1\n",
       "1378       1\n",
       "1806       1\n",
       "1897       1\n",
       "1900       3\n",
       "1901       7\n",
       "1902       2\n",
       "1904       1\n",
       "1906       1\n",
       "1908       1\n",
       "1909       2\n",
       "1910       1\n",
       "1911      19\n",
       "1914       1\n",
       "1917       1\n",
       "1919       1\n",
       "1920      33\n",
       "1921       2\n",
       "1922       2\n",
       "Name: Year-Of-Publication, dtype: int64"
      ]
     },
     "metadata": {},
     "output_type": "display_data"
    },
    {
     "data": {
      "text/plain": [
       "2023        1\n",
       "2021        1\n",
       "2020        3\n",
       "2012        1\n",
       "2011        2\n",
       "2010        2\n",
       "2008        1\n",
       "2006        3\n",
       "2005       47\n",
       "2004     5839\n",
       "2003    14360\n",
       "2002    17627\n",
       "2001    17360\n",
       "2000    17234\n",
       "1999    17431\n",
       "1998    15766\n",
       "1997    14890\n",
       "1996    14031\n",
       "1995    13547\n",
       "1994    11796\n",
       "Name: Year-Of-Publication, dtype: int64"
      ]
     },
     "execution_count": 49,
     "metadata": {},
     "output_type": "execute_result"
    }
   ],
   "source": [
    "# Now the year of publications problem have been resolved\n",
    "display(\n",
    "    books['Year-Of-Publication'].value_counts().sort_index().iloc[:20])\n",
    "books['Year-Of-Publication'].value_counts().sort_index(ascending=False).iloc[:20]"
   ]
  },
  {
   "cell_type": "code",
   "execution_count": null,
   "id": "64301568",
   "metadata": {},
   "outputs": [],
   "source": [
    "#Looks like we have a lot of books without the year data and hence set to 0"
   ]
  },
  {
   "cell_type": "code",
   "execution_count": 50,
   "id": "6b469a74",
   "metadata": {},
   "outputs": [
    {
     "data": {
      "text/html": [
       "<div>\n",
       "<style scoped>\n",
       "    .dataframe tbody tr th:only-of-type {\n",
       "        vertical-align: middle;\n",
       "    }\n",
       "\n",
       "    .dataframe tbody tr th {\n",
       "        vertical-align: top;\n",
       "    }\n",
       "\n",
       "    .dataframe thead th {\n",
       "        text-align: right;\n",
       "    }\n",
       "</style>\n",
       "<table border=\"1\" class=\"dataframe\">\n",
       "  <thead>\n",
       "    <tr style=\"text-align: right;\">\n",
       "      <th></th>\n",
       "      <th>ISBN</th>\n",
       "      <th>Book-Title</th>\n",
       "      <th>Book-Author</th>\n",
       "      <th>Year-Of-Publication</th>\n",
       "      <th>Publisher</th>\n",
       "      <th>Image-URL-S</th>\n",
       "      <th>Image-URL-M</th>\n",
       "      <th>Image-URL-L</th>\n",
       "    </tr>\n",
       "  </thead>\n",
       "  <tbody>\n",
       "    <tr>\n",
       "      <th>227531</th>\n",
       "      <td>9643112136</td>\n",
       "      <td>Dalan-i bihisht (Dastan-i Irani)</td>\n",
       "      <td>Nazi Safavi</td>\n",
       "      <td>1378</td>\n",
       "      <td>Intisharat-i Quqnus</td>\n",
       "      <td>http://images.amazon.com/images/P/9643112136.0...</td>\n",
       "      <td>http://images.amazon.com/images/P/9643112136.0...</td>\n",
       "      <td>http://images.amazon.com/images/P/9643112136.0...</td>\n",
       "    </tr>\n",
       "    <tr>\n",
       "      <th>253750</th>\n",
       "      <td>964442011X</td>\n",
       "      <td>Tasht-i khun</td>\n",
       "      <td>IsmaÂ°il Fasih</td>\n",
       "      <td>1376</td>\n",
       "      <td>Nashr-i Alburz</td>\n",
       "      <td>http://images.amazon.com/images/P/964442011X.0...</td>\n",
       "      <td>http://images.amazon.com/images/P/964442011X.0...</td>\n",
       "      <td>http://images.amazon.com/images/P/964442011X.0...</td>\n",
       "    </tr>\n",
       "  </tbody>\n",
       "</table>\n",
       "</div>"
      ],
      "text/plain": [
       "              ISBN                        Book-Title     Book-Author  \\\n",
       "227531  9643112136  Dalan-i bihisht (Dastan-i Irani)     Nazi Safavi   \n",
       "253750  964442011X                      Tasht-i khun  IsmaÂ°il Fasih   \n",
       "\n",
       "        Year-Of-Publication            Publisher  \\\n",
       "227531                 1378  Intisharat-i Quqnus   \n",
       "253750                 1376       Nashr-i Alburz   \n",
       "\n",
       "                                              Image-URL-S  \\\n",
       "227531  http://images.amazon.com/images/P/9643112136.0...   \n",
       "253750  http://images.amazon.com/images/P/964442011X.0...   \n",
       "\n",
       "                                              Image-URL-M  \\\n",
       "227531  http://images.amazon.com/images/P/9643112136.0...   \n",
       "253750  http://images.amazon.com/images/P/964442011X.0...   \n",
       "\n",
       "                                              Image-URL-L  \n",
       "227531  http://images.amazon.com/images/P/9643112136.0...  \n",
       "253750  http://images.amazon.com/images/P/964442011X.0...  "
      ]
     },
     "execution_count": 50,
     "metadata": {},
     "output_type": "execute_result"
    }
   ],
   "source": [
    "books[(books['Year-Of-Publication']<1400)&(books['Year-Of-Publication']>0)]"
   ]
  },
  {
   "cell_type": "code",
   "execution_count": 51,
   "id": "768bf3b0",
   "metadata": {},
   "outputs": [],
   "source": [
    "#These are probably mythological and religious books so the date could be correct. So, we donot alter the date for these entries."
   ]
  },
  {
   "cell_type": "code",
   "execution_count": 52,
   "id": "3a631f27",
   "metadata": {},
   "outputs": [
    {
     "data": {
      "text/plain": [
       "2023        1\n",
       "2021        1\n",
       "2020        3\n",
       "2012        1\n",
       "2011        2\n",
       "2010        2\n",
       "2008        1\n",
       "2006        3\n",
       "2005       47\n",
       "2004     5839\n",
       "2003    14360\n",
       "2002    17627\n",
       "2001    17360\n",
       "2000    17234\n",
       "1999    17431\n",
       "1998    15766\n",
       "1997    14890\n",
       "1996    14031\n",
       "1995    13547\n",
       "1994    11796\n",
       "Name: Year-Of-Publication, dtype: int64"
      ]
     },
     "execution_count": 52,
     "metadata": {},
     "output_type": "execute_result"
    }
   ],
   "source": [
    "books_year_rational = books[books['Year-Of-Publication']!=0]['Year-Of-Publication'].value_counts().sort_index(ascending=False).iloc[:20]\n",
    "books_year_rational"
   ]
  },
  {
   "cell_type": "code",
   "execution_count": null,
   "id": "176bde42",
   "metadata": {},
   "outputs": [],
   "source": [
    "# now plotting "
   ]
  },
  {
   "cell_type": "code",
   "execution_count": 55,
   "id": "4e68e769",
   "metadata": {},
   "outputs": [
    {
     "ename": "ValueError",
     "evalue": "rotation must be 'vertical', 'horizontal' or a number, not 90",
     "output_type": "error",
     "traceback": [
      "\u001b[1;31m---------------------------------------------------------------------------\u001b[0m",
      "\u001b[1;31mValueError\u001b[0m                                Traceback (most recent call last)",
      "Cell \u001b[1;32mIn[55], line 6\u001b[0m\n\u001b[0;32m      4\u001b[0m \u001b[38;5;28;01mfor\u001b[39;00m bar \u001b[38;5;129;01min\u001b[39;00m bars:\n\u001b[0;32m      5\u001b[0m     height \u001b[38;5;241m=\u001b[39m bar\u001b[38;5;241m.\u001b[39mget_height()\n\u001b[1;32m----> 6\u001b[0m     \u001b[43mplt\u001b[49m\u001b[38;5;241;43m.\u001b[39;49m\u001b[43mtext\u001b[49m\u001b[43m(\u001b[49m\u001b[43mbar\u001b[49m\u001b[38;5;241;43m.\u001b[39;49m\u001b[43mget_x\u001b[49m\u001b[43m(\u001b[49m\u001b[43m)\u001b[49m\u001b[43m \u001b[49m\u001b[38;5;241;43m+\u001b[39;49m\u001b[43m \u001b[49m\u001b[43mbar\u001b[49m\u001b[38;5;241;43m.\u001b[39;49m\u001b[43mget_width\u001b[49m\u001b[43m(\u001b[49m\u001b[43m)\u001b[49m\u001b[38;5;241;43m/\u001b[39;49m\u001b[38;5;241;43m2\u001b[39;49m\u001b[43m,\u001b[49m\u001b[43m \u001b[49m\u001b[43mheight\u001b[49m\u001b[43m,\u001b[49m\n\u001b[0;32m      7\u001b[0m \u001b[43m             \u001b[49m\u001b[38;5;124;43m'\u001b[39;49m\u001b[38;5;132;43;01m{:.0f}\u001b[39;49;00m\u001b[38;5;124;43m'\u001b[39;49m\u001b[38;5;241;43m.\u001b[39;49m\u001b[43mformat\u001b[49m\u001b[43m(\u001b[49m\u001b[43mheight\u001b[49m\u001b[43m)\u001b[49m\u001b[43m,\u001b[49m\u001b[43m \u001b[49m\u001b[43mha\u001b[49m\u001b[38;5;241;43m=\u001b[39;49m\u001b[38;5;124;43m'\u001b[39;49m\u001b[38;5;124;43mcenter\u001b[39;49m\u001b[38;5;124;43m'\u001b[39;49m\u001b[43m,\u001b[49m\u001b[43m \u001b[49m\u001b[43mva\u001b[49m\u001b[38;5;241;43m=\u001b[39;49m\u001b[38;5;124;43m'\u001b[39;49m\u001b[38;5;124;43mbottom\u001b[39;49m\u001b[38;5;124;43m'\u001b[39;49m\u001b[43m,\u001b[49m\u001b[43m \u001b[49m\u001b[43mrotation\u001b[49m\u001b[38;5;241;43m=\u001b[39;49m\u001b[38;5;124;43m'\u001b[39;49m\u001b[38;5;124;43m90\u001b[39;49m\u001b[38;5;124;43m'\u001b[39;49m\u001b[43m)\u001b[49m\n\u001b[0;32m      8\u001b[0m plt\u001b[38;5;241m.\u001b[39mshow()\n",
      "File \u001b[1;32mc:\\users\\harshit goyal\\appdata\\local\\programs\\python\\python38\\lib\\site-packages\\matplotlib\\pyplot.py:2985\u001b[0m, in \u001b[0;36mtext\u001b[1;34m(x, y, s, fontdict, **kwargs)\u001b[0m\n\u001b[0;32m   2983\u001b[0m \u001b[38;5;129m@_copy_docstring_and_deprecators\u001b[39m(Axes\u001b[38;5;241m.\u001b[39mtext)\n\u001b[0;32m   2984\u001b[0m \u001b[38;5;28;01mdef\u001b[39;00m \u001b[38;5;21mtext\u001b[39m(x, y, s, fontdict\u001b[38;5;241m=\u001b[39m\u001b[38;5;28;01mNone\u001b[39;00m, \u001b[38;5;241m*\u001b[39m\u001b[38;5;241m*\u001b[39mkwargs):\n\u001b[1;32m-> 2985\u001b[0m     \u001b[38;5;28;01mreturn\u001b[39;00m \u001b[43mgca\u001b[49m\u001b[43m(\u001b[49m\u001b[43m)\u001b[49m\u001b[38;5;241;43m.\u001b[39;49m\u001b[43mtext\u001b[49m\u001b[43m(\u001b[49m\u001b[43mx\u001b[49m\u001b[43m,\u001b[49m\u001b[43m \u001b[49m\u001b[43my\u001b[49m\u001b[43m,\u001b[49m\u001b[43m \u001b[49m\u001b[43ms\u001b[49m\u001b[43m,\u001b[49m\u001b[43m \u001b[49m\u001b[43mfontdict\u001b[49m\u001b[38;5;241;43m=\u001b[39;49m\u001b[43mfontdict\u001b[49m\u001b[43m,\u001b[49m\u001b[43m \u001b[49m\u001b[38;5;241;43m*\u001b[39;49m\u001b[38;5;241;43m*\u001b[39;49m\u001b[43mkwargs\u001b[49m\u001b[43m)\u001b[49m\n",
      "File \u001b[1;32mc:\\users\\harshit goyal\\appdata\\local\\programs\\python\\python38\\lib\\site-packages\\matplotlib\\axes\\_axes.py:689\u001b[0m, in \u001b[0;36mAxes.text\u001b[1;34m(self, x, y, s, fontdict, **kwargs)\u001b[0m\n\u001b[0;32m    628\u001b[0m \u001b[38;5;250m\u001b[39m\u001b[38;5;124;03m\"\"\"\u001b[39;00m\n\u001b[0;32m    629\u001b[0m \u001b[38;5;124;03mAdd text to the Axes.\u001b[39;00m\n\u001b[0;32m    630\u001b[0m \n\u001b[1;32m   (...)\u001b[0m\n\u001b[0;32m    679\u001b[0m \u001b[38;5;124;03m    >>> text(x, y, s, bbox=dict(facecolor='red', alpha=0.5))\u001b[39;00m\n\u001b[0;32m    680\u001b[0m \u001b[38;5;124;03m\"\"\"\u001b[39;00m\n\u001b[0;32m    681\u001b[0m effective_kwargs \u001b[38;5;241m=\u001b[39m {\n\u001b[0;32m    682\u001b[0m     \u001b[38;5;124m'\u001b[39m\u001b[38;5;124mverticalalignment\u001b[39m\u001b[38;5;124m'\u001b[39m: \u001b[38;5;124m'\u001b[39m\u001b[38;5;124mbaseline\u001b[39m\u001b[38;5;124m'\u001b[39m,\n\u001b[0;32m    683\u001b[0m     \u001b[38;5;124m'\u001b[39m\u001b[38;5;124mhorizontalalignment\u001b[39m\u001b[38;5;124m'\u001b[39m: \u001b[38;5;124m'\u001b[39m\u001b[38;5;124mleft\u001b[39m\u001b[38;5;124m'\u001b[39m,\n\u001b[1;32m   (...)\u001b[0m\n\u001b[0;32m    687\u001b[0m     \u001b[38;5;241m*\u001b[39m\u001b[38;5;241m*\u001b[39mkwargs,\n\u001b[0;32m    688\u001b[0m }\n\u001b[1;32m--> 689\u001b[0m t \u001b[38;5;241m=\u001b[39m \u001b[43mmtext\u001b[49m\u001b[38;5;241;43m.\u001b[39;49m\u001b[43mText\u001b[49m\u001b[43m(\u001b[49m\u001b[43mx\u001b[49m\u001b[43m,\u001b[49m\u001b[43m \u001b[49m\u001b[43my\u001b[49m\u001b[43m,\u001b[49m\u001b[43m \u001b[49m\u001b[43mtext\u001b[49m\u001b[38;5;241;43m=\u001b[39;49m\u001b[43ms\u001b[49m\u001b[43m,\u001b[49m\u001b[43m \u001b[49m\u001b[38;5;241;43m*\u001b[39;49m\u001b[38;5;241;43m*\u001b[39;49m\u001b[43meffective_kwargs\u001b[49m\u001b[43m)\u001b[49m\n\u001b[0;32m    690\u001b[0m t\u001b[38;5;241m.\u001b[39mset_clip_path(\u001b[38;5;28mself\u001b[39m\u001b[38;5;241m.\u001b[39mpatch)\n\u001b[0;32m    691\u001b[0m \u001b[38;5;28mself\u001b[39m\u001b[38;5;241m.\u001b[39m_add_text(t)\n",
      "File \u001b[1;32mc:\\users\\harshit goyal\\appdata\\local\\programs\\python\\python38\\lib\\site-packages\\matplotlib\\_api\\deprecation.py:454\u001b[0m, in \u001b[0;36mmake_keyword_only.<locals>.wrapper\u001b[1;34m(*args, **kwargs)\u001b[0m\n\u001b[0;32m    448\u001b[0m \u001b[38;5;28;01mif\u001b[39;00m \u001b[38;5;28mlen\u001b[39m(args) \u001b[38;5;241m>\u001b[39m name_idx:\n\u001b[0;32m    449\u001b[0m     warn_deprecated(\n\u001b[0;32m    450\u001b[0m         since, message\u001b[38;5;241m=\u001b[39m\u001b[38;5;124m\"\u001b[39m\u001b[38;5;124mPassing the \u001b[39m\u001b[38;5;132;01m%(name)s\u001b[39;00m\u001b[38;5;124m \u001b[39m\u001b[38;5;132;01m%(obj_type)s\u001b[39;00m\u001b[38;5;124m \u001b[39m\u001b[38;5;124m\"\u001b[39m\n\u001b[0;32m    451\u001b[0m         \u001b[38;5;124m\"\u001b[39m\u001b[38;5;124mpositionally is deprecated since Matplotlib \u001b[39m\u001b[38;5;132;01m%(since)s\u001b[39;00m\u001b[38;5;124m; the \u001b[39m\u001b[38;5;124m\"\u001b[39m\n\u001b[0;32m    452\u001b[0m         \u001b[38;5;124m\"\u001b[39m\u001b[38;5;124mparameter will become keyword-only \u001b[39m\u001b[38;5;132;01m%(removal)s\u001b[39;00m\u001b[38;5;124m.\u001b[39m\u001b[38;5;124m\"\u001b[39m,\n\u001b[0;32m    453\u001b[0m         name\u001b[38;5;241m=\u001b[39mname, obj_type\u001b[38;5;241m=\u001b[39m\u001b[38;5;124mf\u001b[39m\u001b[38;5;124m\"\u001b[39m\u001b[38;5;124mparameter of \u001b[39m\u001b[38;5;132;01m{\u001b[39;00mfunc\u001b[38;5;241m.\u001b[39m\u001b[38;5;18m__name__\u001b[39m\u001b[38;5;132;01m}\u001b[39;00m\u001b[38;5;124m()\u001b[39m\u001b[38;5;124m\"\u001b[39m)\n\u001b[1;32m--> 454\u001b[0m \u001b[38;5;28;01mreturn\u001b[39;00m \u001b[43mfunc\u001b[49m\u001b[43m(\u001b[49m\u001b[38;5;241;43m*\u001b[39;49m\u001b[43margs\u001b[49m\u001b[43m,\u001b[49m\u001b[43m \u001b[49m\u001b[38;5;241;43m*\u001b[39;49m\u001b[38;5;241;43m*\u001b[39;49m\u001b[43mkwargs\u001b[49m\u001b[43m)\u001b[49m\n",
      "File \u001b[1;32mc:\\users\\harshit goyal\\appdata\\local\\programs\\python\\python38\\lib\\site-packages\\matplotlib\\text.py:168\u001b[0m, in \u001b[0;36mText.__init__\u001b[1;34m(self, x, y, text, color, verticalalignment, horizontalalignment, multialignment, fontproperties, rotation, linespacing, rotation_mode, usetex, wrap, transform_rotates_text, parse_math, **kwargs)\u001b[0m\n\u001b[0;32m    166\u001b[0m \u001b[38;5;28mself\u001b[39m\u001b[38;5;241m.\u001b[39m_x, \u001b[38;5;28mself\u001b[39m\u001b[38;5;241m.\u001b[39m_y \u001b[38;5;241m=\u001b[39m x, y\n\u001b[0;32m    167\u001b[0m \u001b[38;5;28mself\u001b[39m\u001b[38;5;241m.\u001b[39m_text \u001b[38;5;241m=\u001b[39m \u001b[38;5;124m'\u001b[39m\u001b[38;5;124m'\u001b[39m\n\u001b[1;32m--> 168\u001b[0m \u001b[38;5;28;43mself\u001b[39;49m\u001b[38;5;241;43m.\u001b[39;49m\u001b[43m_reset_visual_defaults\u001b[49m\u001b[43m(\u001b[49m\n\u001b[0;32m    169\u001b[0m \u001b[43m    \u001b[49m\u001b[43mtext\u001b[49m\u001b[38;5;241;43m=\u001b[39;49m\u001b[43mtext\u001b[49m\u001b[43m,\u001b[49m\n\u001b[0;32m    170\u001b[0m \u001b[43m    \u001b[49m\u001b[43mcolor\u001b[49m\u001b[38;5;241;43m=\u001b[39;49m\u001b[43mcolor\u001b[49m\u001b[43m,\u001b[49m\n\u001b[0;32m    171\u001b[0m \u001b[43m    \u001b[49m\u001b[43mfontproperties\u001b[49m\u001b[38;5;241;43m=\u001b[39;49m\u001b[43mfontproperties\u001b[49m\u001b[43m,\u001b[49m\n\u001b[0;32m    172\u001b[0m \u001b[43m    \u001b[49m\u001b[43musetex\u001b[49m\u001b[38;5;241;43m=\u001b[39;49m\u001b[43musetex\u001b[49m\u001b[43m,\u001b[49m\n\u001b[0;32m    173\u001b[0m \u001b[43m    \u001b[49m\u001b[43mparse_math\u001b[49m\u001b[38;5;241;43m=\u001b[39;49m\u001b[43mparse_math\u001b[49m\u001b[43m,\u001b[49m\n\u001b[0;32m    174\u001b[0m \u001b[43m    \u001b[49m\u001b[43mwrap\u001b[49m\u001b[38;5;241;43m=\u001b[39;49m\u001b[43mwrap\u001b[49m\u001b[43m,\u001b[49m\n\u001b[0;32m    175\u001b[0m \u001b[43m    \u001b[49m\u001b[43mverticalalignment\u001b[49m\u001b[38;5;241;43m=\u001b[39;49m\u001b[43mverticalalignment\u001b[49m\u001b[43m,\u001b[49m\n\u001b[0;32m    176\u001b[0m \u001b[43m    \u001b[49m\u001b[43mhorizontalalignment\u001b[49m\u001b[38;5;241;43m=\u001b[39;49m\u001b[43mhorizontalalignment\u001b[49m\u001b[43m,\u001b[49m\n\u001b[0;32m    177\u001b[0m \u001b[43m    \u001b[49m\u001b[43mmultialignment\u001b[49m\u001b[38;5;241;43m=\u001b[39;49m\u001b[43mmultialignment\u001b[49m\u001b[43m,\u001b[49m\n\u001b[0;32m    178\u001b[0m \u001b[43m    \u001b[49m\u001b[43mrotation\u001b[49m\u001b[38;5;241;43m=\u001b[39;49m\u001b[43mrotation\u001b[49m\u001b[43m,\u001b[49m\n\u001b[0;32m    179\u001b[0m \u001b[43m    \u001b[49m\u001b[43mtransform_rotates_text\u001b[49m\u001b[38;5;241;43m=\u001b[39;49m\u001b[43mtransform_rotates_text\u001b[49m\u001b[43m,\u001b[49m\n\u001b[0;32m    180\u001b[0m \u001b[43m    \u001b[49m\u001b[43mlinespacing\u001b[49m\u001b[38;5;241;43m=\u001b[39;49m\u001b[43mlinespacing\u001b[49m\u001b[43m,\u001b[49m\n\u001b[0;32m    181\u001b[0m \u001b[43m    \u001b[49m\u001b[43mrotation_mode\u001b[49m\u001b[38;5;241;43m=\u001b[39;49m\u001b[43mrotation_mode\u001b[49m\u001b[43m,\u001b[49m\n\u001b[0;32m    182\u001b[0m \u001b[43m\u001b[49m\u001b[43m)\u001b[49m\n\u001b[0;32m    183\u001b[0m \u001b[38;5;28mself\u001b[39m\u001b[38;5;241m.\u001b[39mupdate(kwargs)\n",
      "File \u001b[1;32mc:\\users\\harshit goyal\\appdata\\local\\programs\\python\\python38\\lib\\site-packages\\matplotlib\\text.py:212\u001b[0m, in \u001b[0;36mText._reset_visual_defaults\u001b[1;34m(self, text, color, fontproperties, usetex, parse_math, wrap, verticalalignment, horizontalalignment, multialignment, rotation, transform_rotates_text, linespacing, rotation_mode)\u001b[0m\n\u001b[0;32m    210\u001b[0m \u001b[38;5;28mself\u001b[39m\u001b[38;5;241m.\u001b[39mset_horizontalalignment(horizontalalignment)\n\u001b[0;32m    211\u001b[0m \u001b[38;5;28mself\u001b[39m\u001b[38;5;241m.\u001b[39m_multialignment \u001b[38;5;241m=\u001b[39m multialignment\n\u001b[1;32m--> 212\u001b[0m \u001b[38;5;28;43mself\u001b[39;49m\u001b[38;5;241;43m.\u001b[39;49m\u001b[43mset_rotation\u001b[49m\u001b[43m(\u001b[49m\u001b[43mrotation\u001b[49m\u001b[43m)\u001b[49m\n\u001b[0;32m    213\u001b[0m \u001b[38;5;28mself\u001b[39m\u001b[38;5;241m.\u001b[39m_transform_rotates_text \u001b[38;5;241m=\u001b[39m transform_rotates_text\n\u001b[0;32m    214\u001b[0m \u001b[38;5;28mself\u001b[39m\u001b[38;5;241m.\u001b[39m_bbox_patch \u001b[38;5;241m=\u001b[39m \u001b[38;5;28;01mNone\u001b[39;00m  \u001b[38;5;66;03m# a FancyBboxPatch instance\u001b[39;00m\n",
      "File \u001b[1;32mc:\\users\\harshit goyal\\appdata\\local\\programs\\python\\python38\\lib\\site-packages\\matplotlib\\text.py:1234\u001b[0m, in \u001b[0;36mText.set_rotation\u001b[1;34m(self, s)\u001b[0m\n\u001b[0;32m   1232\u001b[0m     \u001b[38;5;28mself\u001b[39m\u001b[38;5;241m.\u001b[39m_rotation \u001b[38;5;241m=\u001b[39m \u001b[38;5;241m90.\u001b[39m\n\u001b[0;32m   1233\u001b[0m \u001b[38;5;28;01melse\u001b[39;00m:\n\u001b[1;32m-> 1234\u001b[0m     \u001b[38;5;28;01mraise\u001b[39;00m \u001b[38;5;167;01mValueError\u001b[39;00m(\u001b[38;5;124m\"\u001b[39m\u001b[38;5;124mrotation must be \u001b[39m\u001b[38;5;124m'\u001b[39m\u001b[38;5;124mvertical\u001b[39m\u001b[38;5;124m'\u001b[39m\u001b[38;5;124m, \u001b[39m\u001b[38;5;124m'\u001b[39m\u001b[38;5;124mhorizontal\u001b[39m\u001b[38;5;124m'\u001b[39m\u001b[38;5;124m or \u001b[39m\u001b[38;5;124m\"\u001b[39m\n\u001b[0;32m   1235\u001b[0m                      \u001b[38;5;124mf\u001b[39m\u001b[38;5;124m\"\u001b[39m\u001b[38;5;124ma number, not \u001b[39m\u001b[38;5;132;01m{\u001b[39;00ms\u001b[38;5;132;01m}\u001b[39;00m\u001b[38;5;124m\"\u001b[39m)\n\u001b[0;32m   1236\u001b[0m \u001b[38;5;28mself\u001b[39m\u001b[38;5;241m.\u001b[39mstale \u001b[38;5;241m=\u001b[39m \u001b[38;5;28;01mTrue\u001b[39;00m\n",
      "\u001b[1;31mValueError\u001b[0m: rotation must be 'vertical', 'horizontal' or a number, not 90"
     ]
    },
    {
     "data": {
      "image/png": "[encoded data removed]",
      "text/plain": [
       "<Figure size 2000x1000 with 1 Axes>"
      ]
     },
     "metadata": {},
     "output_type": "display_data"
    }
   ],
   "source": [
    "plt.figure(figsize=(20,10))\n",
    "bars = plt.bar(x=books_year_rational.index,height=books_year_rational.values)\n",
    "\n",
    "for bar in bars:\n",
    "    height = bar.get_height()\n",
    "    plt.text(bar.get_x() + bar.get_width()/2, height,\n",
    "             '{:.0f}'.format(height), ha='center', va='bottom', rotation='90')\n",
    "plt.show()\n"
   ]
  },
  {
   "cell_type": "markdown",
   "id": "57eed059",
   "metadata": {},
   "source": [
    "# Authors"
   ]
  },
  {
   "cell_type": "code",
   "execution_count": 56,
   "id": "2537831c",
   "metadata": {},
   "outputs": [
    {
     "data": {
      "text/html": [
       "<div>\n",
       "<style scoped>\n",
       "    .dataframe tbody tr th:only-of-type {\n",
       "        vertical-align: middle;\n",
       "    }\n",
       "\n",
       "    .dataframe tbody tr th {\n",
       "        vertical-align: top;\n",
       "    }\n",
       "\n",
       "    .dataframe thead th {\n",
       "        text-align: right;\n",
       "    }\n",
       "</style>\n",
       "<table border=\"1\" class=\"dataframe\">\n",
       "  <thead>\n",
       "    <tr style=\"text-align: right;\">\n",
       "      <th></th>\n",
       "      <th>ISBN</th>\n",
       "      <th>Book-Title</th>\n",
       "      <th>Book-Author</th>\n",
       "      <th>Year-Of-Publication</th>\n",
       "      <th>Publisher</th>\n",
       "      <th>Image-URL-S</th>\n",
       "      <th>Image-URL-M</th>\n",
       "      <th>Image-URL-L</th>\n",
       "    </tr>\n",
       "  </thead>\n",
       "  <tbody>\n",
       "    <tr>\n",
       "      <th>62</th>\n",
       "      <td>0679865691</td>\n",
       "      <td>Haveli (Laurel Leaf Books)</td>\n",
       "      <td>SUZANNE FISHER STAPLES</td>\n",
       "      <td>1995</td>\n",
       "      <td>Laurel Leaf</td>\n",
       "      <td>http://images.amazon.com/images/P/0679865691.0...</td>\n",
       "      <td>http://images.amazon.com/images/P/0679865691.0...</td>\n",
       "      <td>http://images.amazon.com/images/P/0679865691.0...</td>\n",
       "    </tr>\n",
       "    <tr>\n",
       "      <th>67</th>\n",
       "      <td>0804106304</td>\n",
       "      <td>The Joy Luck Club</td>\n",
       "      <td>Amy Tan</td>\n",
       "      <td>1994</td>\n",
       "      <td>Prentice Hall (K-12)</td>\n",
       "      <td>http://images.amazon.com/images/P/0804106304.0...</td>\n",
       "      <td>http://images.amazon.com/images/P/0804106304.0...</td>\n",
       "      <td>http://images.amazon.com/images/P/0804106304.0...</td>\n",
       "    </tr>\n",
       "    <tr>\n",
       "      <th>74</th>\n",
       "      <td>0345465083</td>\n",
       "      <td>Seabiscuit</td>\n",
       "      <td>LAURA HILLENBRAND</td>\n",
       "      <td>2003</td>\n",
       "      <td>Ballantine Books</td>\n",
       "      <td>http://images.amazon.com/images/P/0345465083.0...</td>\n",
       "      <td>http://images.amazon.com/images/P/0345465083.0...</td>\n",
       "      <td>http://images.amazon.com/images/P/0345465083.0...</td>\n",
       "    </tr>\n",
       "    <tr>\n",
       "      <th>92</th>\n",
       "      <td>8445071769</td>\n",
       "      <td>El Senor De Los Anillos: Las DOS Torres (Lord ...</td>\n",
       "      <td>J. R. R. Tolkien</td>\n",
       "      <td>2001</td>\n",
       "      <td>Minotauro</td>\n",
       "      <td>http://images.amazon.com/images/P/8445071769.0...</td>\n",
       "      <td>http://images.amazon.com/images/P/8445071769.0...</td>\n",
       "      <td>http://images.amazon.com/images/P/8445071769.0...</td>\n",
       "    </tr>\n",
       "    <tr>\n",
       "      <th>93</th>\n",
       "      <td>8445071777</td>\n",
       "      <td>El Senor De Los Anillos: El Retorno Del Rey (T...</td>\n",
       "      <td>J. R. R. Tolkien</td>\n",
       "      <td>2001</td>\n",
       "      <td>Distribooks</td>\n",
       "      <td>http://images.amazon.com/images/P/8445071777.0...</td>\n",
       "      <td>http://images.amazon.com/images/P/8445071777.0...</td>\n",
       "      <td>http://images.amazon.com/images/P/8445071777.0...</td>\n",
       "    </tr>\n",
       "    <tr>\n",
       "      <th>...</th>\n",
       "      <td>...</td>\n",
       "      <td>...</td>\n",
       "      <td>...</td>\n",
       "      <td>...</td>\n",
       "      <td>...</td>\n",
       "      <td>...</td>\n",
       "      <td>...</td>\n",
       "      <td>...</td>\n",
       "    </tr>\n",
       "    <tr>\n",
       "      <th>271353</th>\n",
       "      <td>014002803X</td>\n",
       "      <td>Anti Death League</td>\n",
       "      <td>Kingsley Amis</td>\n",
       "      <td>1975</td>\n",
       "      <td>Viking Press</td>\n",
       "      <td>http://images.amazon.com/images/P/014002803X.0...</td>\n",
       "      <td>http://images.amazon.com/images/P/014002803X.0...</td>\n",
       "      <td>http://images.amazon.com/images/P/014002803X.0...</td>\n",
       "    </tr>\n",
       "    <tr>\n",
       "      <th>271354</th>\n",
       "      <td>0449906736</td>\n",
       "      <td>Flashpoints: Promise and Peril in a New World</td>\n",
       "      <td>Robin Wright</td>\n",
       "      <td>1993</td>\n",
       "      <td>Ballantine Books</td>\n",
       "      <td>http://images.amazon.com/images/P/0449906736.0...</td>\n",
       "      <td>http://images.amazon.com/images/P/0449906736.0...</td>\n",
       "      <td>http://images.amazon.com/images/P/0449906736.0...</td>\n",
       "    </tr>\n",
       "    <tr>\n",
       "      <th>271355</th>\n",
       "      <td>0440400988</td>\n",
       "      <td>There's a Bat in Bunk Five</td>\n",
       "      <td>Paula Danziger</td>\n",
       "      <td>1988</td>\n",
       "      <td>Random House Childrens Pub (Mm)</td>\n",
       "      <td>http://images.amazon.com/images/P/0440400988.0...</td>\n",
       "      <td>http://images.amazon.com/images/P/0440400988.0...</td>\n",
       "      <td>http://images.amazon.com/images/P/0440400988.0...</td>\n",
       "    </tr>\n",
       "    <tr>\n",
       "      <th>271357</th>\n",
       "      <td>006008667X</td>\n",
       "      <td>Lily Dale : The True Story of the Town that Ta...</td>\n",
       "      <td>Christine Wicker</td>\n",
       "      <td>2004</td>\n",
       "      <td>HarperSanFrancisco</td>\n",
       "      <td>http://images.amazon.com/images/P/006008667X.0...</td>\n",
       "      <td>http://images.amazon.com/images/P/006008667X.0...</td>\n",
       "      <td>http://images.amazon.com/images/P/006008667X.0...</td>\n",
       "    </tr>\n",
       "    <tr>\n",
       "      <th>271358</th>\n",
       "      <td>0192126040</td>\n",
       "      <td>Republic (World's Classics)</td>\n",
       "      <td>Plato</td>\n",
       "      <td>1996</td>\n",
       "      <td>Oxford University Press</td>\n",
       "      <td>http://images.amazon.com/images/P/0192126040.0...</td>\n",
       "      <td>http://images.amazon.com/images/P/0192126040.0...</td>\n",
       "      <td>http://images.amazon.com/images/P/0192126040.0...</td>\n",
       "    </tr>\n",
       "  </tbody>\n",
       "</table>\n",
       "<p>169337 rows × 8 columns</p>\n",
       "</div>"
      ],
      "text/plain": [
       "              ISBN                                         Book-Title  \\\n",
       "62      0679865691                         Haveli (Laurel Leaf Books)   \n",
       "67      0804106304                                  The Joy Luck Club   \n",
       "74      0345465083                                         Seabiscuit   \n",
       "92      8445071769  El Senor De Los Anillos: Las DOS Torres (Lord ...   \n",
       "93      8445071777  El Senor De Los Anillos: El Retorno Del Rey (T...   \n",
       "...            ...                                                ...   \n",
       "271353  014002803X                                  Anti Death League   \n",
       "271354  0449906736      Flashpoints: Promise and Peril in a New World   \n",
       "271355  0440400988                         There's a Bat in Bunk Five   \n",
       "271357  006008667X  Lily Dale : The True Story of the Town that Ta...   \n",
       "271358  0192126040                        Republic (World's Classics)   \n",
       "\n",
       "                   Book-Author  Year-Of-Publication  \\\n",
       "62      SUZANNE FISHER STAPLES                 1995   \n",
       "67                     Amy Tan                 1994   \n",
       "74           LAURA HILLENBRAND                 2003   \n",
       "92            J. R. R. Tolkien                 2001   \n",
       "93            J. R. R. Tolkien                 2001   \n",
       "...                        ...                  ...   \n",
       "271353           Kingsley Amis                 1975   \n",
       "271354            Robin Wright                 1993   \n",
       "271355          Paula Danziger                 1988   \n",
       "271357        Christine Wicker                 2004   \n",
       "271358                   Plato                 1996   \n",
       "\n",
       "                              Publisher  \\\n",
       "62                          Laurel Leaf   \n",
       "67                 Prentice Hall (K-12)   \n",
       "74                     Ballantine Books   \n",
       "92                            Minotauro   \n",
       "93                          Distribooks   \n",
       "...                                 ...   \n",
       "271353                     Viking Press   \n",
       "271354                 Ballantine Books   \n",
       "271355  Random House Childrens Pub (Mm)   \n",
       "271357               HarperSanFrancisco   \n",
       "271358          Oxford University Press   \n",
       "\n",
       "                                              Image-URL-S  \\\n",
       "62      http://images.amazon.com/images/P/0679865691.0...   \n",
       "67      http://images.amazon.com/images/P/0804106304.0...   \n",
       "74      http://images.amazon.com/images/P/0345465083.0...   \n",
       "92      http://images.amazon.com/images/P/8445071769.0...   \n",
       "93      http://images.amazon.com/images/P/8445071777.0...   \n",
       "...                                                   ...   \n",
       "271353  http://images.amazon.com/images/P/014002803X.0...   \n",
       "271354  http://images.amazon.com/images/P/0449906736.0...   \n",
       "271355  http://images.amazon.com/images/P/0440400988.0...   \n",
       "271357  http://images.amazon.com/images/P/006008667X.0...   \n",
       "271358  http://images.amazon.com/images/P/0192126040.0...   \n",
       "\n",
       "                                              Image-URL-M  \\\n",
       "62      http://images.amazon.com/images/P/0679865691.0...   \n",
       "67      http://images.amazon.com/images/P/0804106304.0...   \n",
       "74      http://images.amazon.com/images/P/0345465083.0...   \n",
       "92      http://images.amazon.com/images/P/8445071769.0...   \n",
       "93      http://images.amazon.com/images/P/8445071777.0...   \n",
       "...                                                   ...   \n",
       "271353  http://images.amazon.com/images/P/014002803X.0...   \n",
       "271354  http://images.amazon.com/images/P/0449906736.0...   \n",
       "271355  http://images.amazon.com/images/P/0440400988.0...   \n",
       "271357  http://images.amazon.com/images/P/006008667X.0...   \n",
       "271358  http://images.amazon.com/images/P/0192126040.0...   \n",
       "\n",
       "                                              Image-URL-L  \n",
       "62      http://images.amazon.com/images/P/0679865691.0...  \n",
       "67      http://images.amazon.com/images/P/0804106304.0...  \n",
       "74      http://images.amazon.com/images/P/0345465083.0...  \n",
       "92      http://images.amazon.com/images/P/8445071769.0...  \n",
       "93      http://images.amazon.com/images/P/8445071777.0...  \n",
       "...                                                   ...  \n",
       "271353  http://images.amazon.com/images/P/014002803X.0...  \n",
       "271354  http://images.amazon.com/images/P/0449906736.0...  \n",
       "271355  http://images.amazon.com/images/P/0440400988.0...  \n",
       "271357  http://images.amazon.com/images/P/006008667X.0...  \n",
       "271358  http://images.amazon.com/images/P/0192126040.0...  \n",
       "\n",
       "[169337 rows x 8 columns]"
      ]
     },
     "execution_count": 56,
     "metadata": {},
     "output_type": "execute_result"
    }
   ],
   "source": [
    "books[books['Book-Author'].duplicated()]"
   ]
  },
  {
   "cell_type": "code",
   "execution_count": 57,
   "id": "317d2cf1",
   "metadata": {},
   "outputs": [
    {
     "data": {
      "text/plain": [
       "102023"
      ]
     },
     "execution_count": 57,
     "metadata": {},
     "output_type": "execute_result"
    }
   ],
   "source": [
    "# Lets find their number of books per author\n",
    "# Number of unique authors\n",
    "len(books['Book-Author'].unique())"
   ]
  },
  {
   "cell_type": "code",
   "execution_count": 58,
   "id": "29e8a145",
   "metadata": {},
   "outputs": [
    {
     "data": {
      "text/plain": [
       "Agatha Christie          632\n",
       "William Shakespeare      567\n",
       "Stephen King             524\n",
       "Ann M. Martin            423\n",
       "Carolyn Keene            373\n",
       "Francine Pascal          372\n",
       "Isaac Asimov             330\n",
       "Nora Roberts             315\n",
       "Barbara Cartland         307\n",
       "Charles Dickens          302\n",
       "Not Applicable (Na )     286\n",
       "R. L. Stine              282\n",
       "Mark Twain               231\n",
       "Jane Austen              223\n",
       "Terry Pratchett          220\n",
       "Mary Higgins Clark       218\n",
       "Piers Anthony            217\n",
       "Marion Zimmer Bradley    216\n",
       "Janet Dailey             214\n",
       "Franklin W. Dixon        204\n",
       "Name: Book-Author, dtype: int64"
      ]
     },
     "execution_count": 58,
     "metadata": {},
     "output_type": "execute_result"
    }
   ],
   "source": [
    "author_book_count = books['Book-Author'].value_counts()\n",
    "author_book_count.head(20)"
   ]
  },
  {
   "cell_type": "markdown",
   "id": "0d6d92de",
   "metadata": {},
   "source": [
    "# Error in author name"
   ]
  },
  {
   "cell_type": "code",
   "execution_count": null,
   "id": "70fd58f3",
   "metadata": {},
   "outputs": [],
   "source": [
    "# Looks like there are a lot of books with no authors. So lets drop them for a while and count the rest"
   ]
  },
  {
   "cell_type": "code",
   "execution_count": 61,
   "id": "3d435781",
   "metadata": {},
   "outputs": [
    {
     "data": {
      "text/plain": [
       "Book-Author\n",
       "Agatha Christie        632\n",
       "William Shakespeare    567\n",
       "Stephen King           524\n",
       "Ann M. Martin          423\n",
       "Carolyn Keene          373\n",
       "Francine Pascal        372\n",
       "Isaac Asimov           330\n",
       "Nora Roberts           315\n",
       "Barbara Cartland       307\n",
       "Charles Dickens        302\n",
       "Name: Book-Title, dtype: int64"
      ]
     },
     "execution_count": 61,
     "metadata": {},
     "output_type": "execute_result"
    }
   ],
   "source": [
    "author_book_count = books[books['Book-Author']!= 'Not Applicable (Na )']\n",
    "author_book_count_top50 = author_book_count.groupby('Book-Author').count()['Book-Title'].sort_values(ascending=False).head(50)\n",
    "author_book_count_top50.head(10)"
   ]
  },
  {
   "cell_type": "code",
   "execution_count": 62,
   "id": "1276998f",
   "metadata": {},
   "outputs": [
    {
     "name": "stdout",
     "output_type": "stream",
     "text": [
      "              ISBN                                         Book-Title  \\\n",
      "10821   068985918X      \\Once More, With Feeling\\\" : The Script Book\"   \n",
      "12483   0752271474                         Purple Ronnie's Love Poems   \n",
      "14045   0881762024  Campbell's Creative Cooking With Soup: Over 19...   \n",
      "18533   0721401023                 Book of Trees (Nature, Series 536)   \n",
      "18614   1566475961  Na Wahine: Hawaiin Proverbs &amp; Inspirationa...   \n",
      "...            ...                                                ...   \n",
      "268513  0805401466  Guideposts Best Loved Stories: A Treasury of G...   \n",
      "268647  0895773767  Nature in America/Your A to Z Guide to Our Cou...   \n",
      "269175  0812066170  Watercolor (Barron's Art Handbooks: Purple Ser...   \n",
      "270639  0721407714           Hm the Queen (Famous People, Series 816)   \n",
      "271066  0394884973  Walt Disney Pictures Presents the Great Mouse ...   \n",
      "\n",
      "                 Book-Author  Year-Of-Publication  \\\n",
      "10821   Not Applicable (Na )                 2002   \n",
      "12483   Not Applicable (Na )                 2003   \n",
      "14045   Not Applicable (Na )                 1990   \n",
      "18533   Not Applicable (Na )                 1986   \n",
      "18614   Not Applicable (Na )                 2003   \n",
      "...                      ...                  ...   \n",
      "268513  Not Applicable (Na )                 1997   \n",
      "268647  Not Applicable (Na )                 1991   \n",
      "269175  Not Applicable (Na )                 1996   \n",
      "270639  Not Applicable (Na )                 1986   \n",
      "271066  Not Applicable (Na )                 1986   \n",
      "\n",
      "                            Publisher  \\\n",
      "10821   Simon Spotlight Entertainment   \n",
      "12483                Boxtree, Limited   \n",
      "14045               Publications Intl   \n",
      "18533              Ladybird Books Ltd   \n",
      "18614            Booklines Hawaii Ltd   \n",
      "...                               ...   \n",
      "268513      Broadman &amp; Holman Pub   \n",
      "268647               Putnam Pub Group   \n",
      "269175    Barron's Educational Series   \n",
      "270639             Ladybird Books Ltd   \n",
      "271066   Random House Childrens Books   \n",
      "\n",
      "                                              Image-URL-S  \\\n",
      "10821   http://images.amazon.com/images/P/068985918X.0...   \n",
      "12483   http://images.amazon.com/images/P/0752271474.0...   \n",
      "14045   http://images.amazon.com/images/P/0881762024.0...   \n",
      "18533   http://images.amazon.com/images/P/0721401023.0...   \n",
      "18614   http://images.amazon.com/images/P/1566475961.0...   \n",
      "...                                                   ...   \n",
      "268513  http://images.amazon.com/images/P/0805401466.0...   \n",
      "268647  http://images.amazon.com/images/P/0895773767.0...   \n",
      "269175  http://images.amazon.com/images/P/0812066170.0...   \n",
      "270639  http://images.amazon.com/images/P/0721407714.0...   \n",
      "271066  http://images.amazon.com/images/P/0394884973.0...   \n",
      "\n",
      "                                              Image-URL-M  \\\n",
      "10821   http://images.amazon.com/images/P/068985918X.0...   \n",
      "12483   http://images.amazon.com/images/P/0752271474.0...   \n",
      "14045   http://images.amazon.com/images/P/0881762024.0...   \n",
      "18533   http://images.amazon.com/images/P/0721401023.0...   \n",
      "18614   http://images.amazon.com/images/P/1566475961.0...   \n",
      "...                                                   ...   \n",
      "268513  http://images.amazon.com/images/P/0805401466.0...   \n",
      "268647  http://images.amazon.com/images/P/0895773767.0...   \n",
      "269175  http://images.amazon.com/images/P/0812066170.0...   \n",
      "270639  http://images.amazon.com/images/P/0721407714.0...   \n",
      "271066  http://images.amazon.com/images/P/0394884973.0...   \n",
      "\n",
      "                                              Image-URL-L  \n",
      "10821   http://images.amazon.com/images/P/068985918X.0...  \n",
      "12483   http://images.amazon.com/images/P/0752271474.0...  \n",
      "14045   http://images.amazon.com/images/P/0881762024.0...  \n",
      "18533   http://images.amazon.com/images/P/0721401023.0...  \n",
      "18614   http://images.amazon.com/images/P/1566475961.0...  \n",
      "...                                                   ...  \n",
      "268513  http://images.amazon.com/images/P/0805401466.0...  \n",
      "268647  http://images.amazon.com/images/P/0895773767.0...  \n",
      "269175  http://images.amazon.com/images/P/0812066170.0...  \n",
      "270639  http://images.amazon.com/images/P/0721407714.0...  \n",
      "271066  http://images.amazon.com/images/P/0394884973.0...  \n",
      "\n",
      "[286 rows x 8 columns]\n"
     ]
    }
   ],
   "source": [
    "author_book_count = books[books['Book-Author']== 'Not Applicable (Na )']\n",
    "print(author_book_count)"
   ]
  },
  {
   "cell_type": "code",
   "execution_count": 63,
   "id": "af83de21",
   "metadata": {},
   "outputs": [
    {
     "data": {
      "image/png": "[encoded data removed]",
      "text/plain": [
       "<Figure size 1200x1200 with 1 Axes>"
      ]
     },
     "metadata": {},
     "output_type": "display_data"
    }
   ],
   "source": [
    "cool = sns.color_palette(\"cool\", n_colors=len(author_book_count_top50.values))\n",
    "\n",
    "plt.figure(figsize=(12, 12))\n",
    "\n",
    "sns_plot = sns.barplot(y=author_book_count_top50.index,\n",
    "                       x=author_book_count_top50.values, palette=cool, orient='h')\n",
    "\n",
    "for i, value in enumerate(author_book_count_top50.values):\n",
    "    sns_plot.text(value, i, int(value), ha=\"left\",\n",
    "                  va=\"center\", color='black', fontsize=8)\n",
    "\n",
    "plt.ylabel(\"Author Names\")\n",
    "plt.xlabel(\"Number of Books Written\")\n",
    "plt.title(\"Top 50 authors with highest number of books written\")\n",
    "plt.show()"
   ]
  },
  {
   "cell_type": "code",
   "execution_count": 64,
   "id": "80adaa54",
   "metadata": {},
   "outputs": [
    {
     "data": {
      "text/plain": [
       "Harlequin                        7535\n",
       "Silhouette                       4220\n",
       "Pocket                           3905\n",
       "Ballantine Books                 3783\n",
       "Bantam Books                     3646\n",
       "                                 ... \n",
       "Windstream Publishing Company       1\n",
       "Polaris Books                       1\n",
       "Hannover House                      1\n",
       "Amber Quill Press, LLC.             1\n",
       "Connaught                           1\n",
       "Name: Publisher, Length: 16804, dtype: int64"
      ]
     },
     "execution_count": 64,
     "metadata": {},
     "output_type": "execute_result"
    }
   ],
   "source": [
    "publishers = books['Publisher'].value_counts()\n",
    "publishers"
   ]
  },
  {
   "cell_type": "code",
   "execution_count": 65,
   "id": "c487031f",
   "metadata": {},
   "outputs": [
    {
     "data": {
      "text/plain": [
       "Harlequin                             7535\n",
       "Silhouette                            4220\n",
       "Pocket                                3905\n",
       "Ballantine Books                      3783\n",
       "Bantam Books                          3646\n",
       "Scholastic                            3160\n",
       "Simon &amp; Schuster                  2971\n",
       "Penguin Books                         2844\n",
       "Berkley Publishing Group              2771\n",
       "Warner Books                          2727\n",
       "Penguin USA                           2717\n",
       "Harpercollins                         2525\n",
       "Fawcett Books                         2258\n",
       "Signet Book                           2070\n",
       "Random House Inc                      2045\n",
       "St Martins Pr                         1953\n",
       "St. Martin's Press                    1783\n",
       "Tor Books                             1704\n",
       "HarperCollins Publishers              1700\n",
       "Zebra Books                           1694\n",
       "Bantam                                1660\n",
       "Avon                                  1566\n",
       "Jove Books                            1553\n",
       "Vintage Books USA                     1538\n",
       "Oxford University Press               1502\n",
       "Dell Publishing Company               1473\n",
       "Ace Books                             1466\n",
       "Harper Mass Market Paperbacks (Mm)    1450\n",
       "Bantam Dell Pub Group                 1322\n",
       "Perennial                             1257\n",
       "Goldmann                              1127\n",
       "Dover Publications                    1107\n",
       "Leisure Books                         1099\n",
       "Puffin Books                          1081\n",
       "Del Rey Books                         1080\n",
       "Golden Books                          1026\n",
       "Scribner                              1004\n",
       "Trafalgar Square                       939\n",
       "Aladdin                                932\n",
       "HarperTrophy                           907\n",
       "Heyne                                  898\n",
       "Putnam Pub Group                       869\n",
       "Penguin Books Ltd                      863\n",
       "Gallimard                              850\n",
       "HarperCollins                          845\n",
       "Kensington Publishing Corporation      822\n",
       "Pub Group West                         807\n",
       "Avon Books                             787\n",
       "Pinnacle Books                         758\n",
       "Random House Children's Books          755\n",
       "Berkley Pub Group                      750\n",
       "Name: Publisher, dtype: int64"
      ]
     },
     "execution_count": 65,
     "metadata": {},
     "output_type": "execute_result"
    }
   ],
   "source": [
    "#repeating publisher\n",
    "#how is can be helpful\n",
    "#lets findout the greatest number of publisher for books\n",
    "top_50_publishers = publishers.sort_values(ascending=False)[:51]\n",
    "top_50_publishers"
   ]
  },
  {
   "cell_type": "code",
   "execution_count": null,
   "id": "ecb0fbd5",
   "metadata": {},
   "outputs": [],
   "source": []
  }
 ],
 "metadata": {
  "kernelspec": {
   "display_name": "Python 3 (ipykernel)",
   "language": "python",
   "name": "python3"
  },
  "language_info": {
   "codemirror_mode": {
    "name": "ipython",
    "version": 3
   },
   "file_extension": ".py",
   "mimetype": "text/x-python",
   "name": "python",
   "nbconvert_exporter": "python",
   "pygments_lexer": "ipython3",
   "version": "3.8.10"
  }
 },
 "nbformat": 4,
 "nbformat_minor": 5
}
